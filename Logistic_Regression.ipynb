{
  "nbformat": 4,
  "nbformat_minor": 0,
  "metadata": {
    "colab": {
      "provenance": []
    },
    "kernelspec": {
      "name": "python3",
      "display_name": "Python 3"
    },
    "language_info": {
      "name": "python"
    }
  },
  "cells": [
    {
      "cell_type": "markdown",
      "source": [
        " Q1.What is Logistic Regression, and how does it differ from Linear Regression?\n",
        "\n",
        " Ans: Great question, Shweta — this gets right to the heart of how we use statistical models for different types of predictions.\n",
        "\n",
        "### **Logistic Regression vs. Linear Regression**\n",
        "\n",
        "| Feature                  | Linear Regression                                      | Logistic Regression                                     |\n",
        "|--------------------------|--------------------------------------------------------|---------------------------------------------------------|\n",
        "| **Output Type**          | Continuous value (e.g., salary, temperature)           | Probability between 0 and 1 (used for classification)   |\n",
        "| **Equation Form**        | \\( y = \\beta_0 + \\beta_1x + \\dots + \\beta_nx_n \\)      | \\( P(y=1) = \\frac{1}{1 + e^{-(\\beta_0 + \\beta_1x + \\dots + \\beta_nx_n)}} \\) |\n",
        "| **Problem Type**         | Regression problem                                     | Classification problem (binary or multi-class)          |\n",
        "| **Loss Function**        | Mean Squared Error (MSE)                               | Log Loss (Cross-Entropy)                                |\n",
        "| **Assumes Normality**    | Residuals should be normally distributed               | Assumes binomial distribution of outcome                |\n",
        "\n"
      ],
      "metadata": {
        "id": "j3yw4xZgDnHA"
      }
    },
    {
      "cell_type": "markdown",
      "source": [
        "Q2.  What is the mathematical equation of Logistic Regression?\n",
        "\n",
        "Ans: The core mathematical equation of Logistic Regression models the probability that a data point belongs to a particular class (usually binary: 0 or 1) using the **sigmoid function**:\n",
        "\n",
        "\\[\n",
        "P(y=1|x) = \\frac{1}{1 + e^{-(\\beta_0 + \\beta_1x_1 + \\beta_2x_2 + \\dots + \\beta_nx_n)}}\n",
        "\\]\n",
        "\n",
        "Here’s a quick breakdown for clarity:\n",
        "- \\( P(y=1|x) \\): The probability that the output \\( y \\) is 1 given the input features \\( x \\)\n",
        "- \\( \\beta_0 \\): The intercept (bias term)\n",
        "- \\( \\beta_1, \\beta_2, \\dots, \\beta_n \\): Coefficients (weights) corresponding to each input feature \\( x_1, x_2, \\dots, x_n \\)\n",
        "- \\( e \\): Euler’s number (≈ 2.718), the base of the natural logarithm\n",
        "\n",
        "\n"
      ],
      "metadata": {
        "id": "t9nEiOllEDaK"
      }
    },
    {
      "cell_type": "markdown",
      "source": [
        "Q3.  Why do we use the Sigmoid function in Logistic Regression?\n",
        "\n",
        "Ans: The sigmoid function is the heart of Logistic Regression because it elegantly transforms the raw output of a linear equation into a **probability between 0 and 1** — exactly what we need for binary classification.\n",
        "\n",
        "Here's *why* it's such a perfect fit:\n",
        "\n",
        "### 🧠 Intuition Behind the Sigmoid\n",
        "The sigmoid function is defined as:\n",
        "\n",
        "\\[\n",
        "\\sigma(z) = \\frac{1}{1 + e^{-z}}\n",
        "\\]\n",
        "\n",
        "Where \\( z = \\beta_0 + \\beta_1x_1 + \\dots + \\beta_nx_n \\). This gives us an \"S\"-shaped curve that:\n",
        "- **Maps any real-valued number into a range from 0 to 1**\n",
        "- **Grows smoothly** and has a steep transition near 0 — ideal for decision boundaries\n",
        "- Is **differentiable**, which is crucial for optimization using gradient descent\n",
        "\n",
        "### 📌 So in Logistic Regression:\n",
        "- We start with a **linear model**: combine input features using weights and biases.\n",
        "- Then apply the **sigmoid function** to squash that output into a probability.\n",
        "- Finally, we **classify**: if the result is ≥ 0.5, we predict class 1; otherwise, class 0.\n",
        "\n",
        "\n"
      ],
      "metadata": {
        "id": "LTmHiBxlEhgY"
      }
    },
    {
      "cell_type": "markdown",
      "source": [
        "Q4.  What is the cost function of Logistic Regression\n",
        "\n",
        "Ans: In Logistic Regression, the cost function measures **how well the model’s predicted probabilities match the actual class labels**, and it’s designed to be optimized during training using techniques like gradient descent.\n",
        "\n",
        "Here’s the star of the show:\n",
        "\n",
        "\\[\n",
        "J(\\theta) = -\\frac{1}{m} \\sum_{i=1}^{m} \\left[ y^{(i)} \\log(h_\\theta(x^{(i)})) + (1 - y^{(i)}) \\log(1 - h_\\theta(x^{(i)})) \\right]\n",
        "\\]\n",
        "\n",
        "Let’s break that down:\n",
        "\n",
        "- \\( m \\): Number of training examples  \n",
        "- \\( y^{(i)} \\): Actual label for the \\( i \\)-th example (0 or 1)  \n",
        "- \\( h_\\theta(x^{(i)}) \\): Predicted probability from the model (i.e., sigmoid output)  \n",
        "- \\( \\theta \\): Model parameters (weights and bias)\n",
        "\n"
      ],
      "metadata": {
        "id": "oBRDXgkSFDBf"
      }
    },
    {
      "cell_type": "markdown",
      "source": [
        "Q5.  What is Regularization in Logistic Regression? Why is it needed\n",
        "\n",
        "Ans: Regularization in Logistic Regression is like a safety net that keeps your model from **overfitting**—that is, memorizing the training data too well instead of learning general patterns.\n",
        "\n",
        "---\n",
        "\n",
        "### 🔍 What Is It, Mathematically?\n",
        "\n",
        "Regularization adds a **penalty term** to the cost function to discourage overly complex models (i.e., models with large coefficient values). The two most common types are:\n",
        "\n",
        "1. **L2 Regularization (Ridge)**  \n",
        "   \\[\n",
        "   J(\\theta) = \\text{Log Loss} + \\lambda \\sum_{j=1}^{n} \\theta_j^2\n",
        "   \\]\n",
        "2. **L1 Regularization (Lasso)**  \n",
        "   \\[\n",
        "   J(\\theta) = \\text{Log Loss} + \\lambda \\sum_{j=1}^{n} |\\theta_j|\n",
        "   \\]\n",
        "\n",
        "Where:\n",
        "- \\( \\lambda \\) is the regularization strength (a hyperparameter)\n",
        "- \\( \\theta_j \\) are the model coefficients\n",
        "\n",
        "---\n",
        "\n",
        "### 🚦Why Is It Needed?\n",
        "\n",
        "- **Prevents Overfitting**: Keeps weights from growing too large, which can make the model sensitive to noise.\n",
        "- **Feature Selection (L1)**: Lasso can shrink some weights to zero, effectively dropping irrelevant features.\n",
        "- **Improves Generalization**: The model performs better on unseen data.\n",
        "\n"
      ],
      "metadata": {
        "id": "RyzQIvA-FeLu"
      }
    },
    {
      "cell_type": "markdown",
      "source": [
        "Q6.  Explain the difference between Lasso, Ridge, and Elastic Net regression\n",
        "\n",
        "Ans: Here’s a crisp breakdown of how **Lasso**, **Ridge**, and **Elastic Net** regression differ — all of them are regularization techniques, but each has its own flavor:\n",
        "\n",
        "---\n",
        "\n",
        "### 🔹 Ridge Regression (L2 Regularization)\n",
        "- **Penalty Term**: Adds the **square of the coefficients**  \n",
        "  \\[\n",
        "  \\text{Loss} = \\text{MSE} + \\lambda \\sum_{j=1}^{n} \\beta_j^2\n",
        "  \\]\n",
        "- **Effect**: Shrinks coefficients but **does not eliminate** any — all features stay in the model.\n",
        "- **Best for**: When you have **many correlated features** and want to reduce model complexity without dropping variables.\n",
        "\n",
        "---\n",
        "\n",
        "### 🔸 Lasso Regression (L1 Regularization)\n",
        "- **Penalty Term**: Adds the **absolute value of the coefficients**  \n",
        "  \\[\n",
        "  \\text{Loss} = \\text{MSE} + \\lambda \\sum_{j=1}^{n} |\\beta_j|\n",
        "  \\]\n",
        "- **Effect**: Can shrink some coefficients **exactly to zero** — great for **feature selection**.\n",
        "- **Best for**: When you suspect **only a few features are truly important**.\n",
        "\n",
        "---\n",
        "\n",
        "### 🔶 Elastic Net Regression (L1 + L2 Regularization)\n",
        "- **Penalty Term**: A mix of both L1 and L2  \n",
        "  \\[\n",
        "  \\text{Loss} = \\text{MSE} + \\lambda \\left[ \\alpha \\sum |\\beta_j| + (1 - \\alpha) \\sum \\beta_j^2 \\right]\n",
        "  \\]\n",
        "- **Effect**: Combines the **sparsity of Lasso** with the **stability of Ridge**.\n",
        "- **Best for**: When you want **feature selection** but also need to handle **multicollinearity**.\n",
        "\n"
      ],
      "metadata": {
        "id": "_F29x4TAF2Tw"
      }
    },
    {
      "cell_type": "markdown",
      "source": [
        "Q7.  When should we use Elastic Net instead of Lasso or Ridge?\n",
        "\n",
        "Ans: Elastic Net is your go-to when you want the **best of both worlds** — the feature selection power of Lasso and the stability of Ridge. Here's when it really shines:\n",
        "\n",
        "---\n",
        "\n",
        "### ✅ Use Elastic Net when:\n",
        "1. **You have many correlated features**  \n",
        "   - Lasso tends to pick one and ignore the rest. Ridge keeps all but dilutes them. Elastic Net balances both — it can **select groups of correlated features** together.\n",
        "\n",
        "2. **You suspect some features are irrelevant, but not all**  \n",
        "   - Lasso might be too aggressive and drop useful ones. Elastic Net can **shrink some to zero** while keeping others gently penalized.\n",
        "\n",
        "3. **You’re working with high-dimensional data**  \n",
        "   - Especially when the number of features **exceeds** the number of observations (like in genomics or text classification), Elastic Net helps avoid overfitting while still performing feature selection.\n",
        "\n",
        "4. **You want flexibility**  \n",
        "   - With the mixing parameter \\( \\alpha \\), you can tune how much L1 vs. L2 regularization you want. It’s like having a dial between Ridge and Lasso.\n",
        "\n",
        "\n",
        "\n"
      ],
      "metadata": {
        "id": "fBPx5_PDGJDn"
      }
    },
    {
      "cell_type": "markdown",
      "source": [
        "Q8.  What is the impact of the regularization parameter (λ) in Logistic Regression?\n",
        "\n",
        "Ans: The regularization parameter \\( \\lambda \\) in Logistic Regression acts like a **tuning knob** that controls the trade-off between fitting the training data well and keeping the model simple to generalize better on unseen data.\n",
        "\n",
        "---\n",
        "\n",
        "### 🔧 Here's how it impacts the model:\n",
        "\n",
        "1. **When \\( \\lambda \\) is small (close to 0)**:\n",
        "   - The penalty term is minimal.\n",
        "   - The model behaves like standard Logistic Regression.\n",
        "   - It may **overfit** the training data, especially if there are many features.\n",
        "\n",
        "2. **When \\( \\lambda \\) is large**:\n",
        "   - The penalty on large coefficients is strong.\n",
        "   - The model becomes **simpler**, with smaller weights.\n",
        "   - It may **underfit** the data if too much regularization is applied.\n",
        "\n",
        "---\n",
        "\n"
      ],
      "metadata": {
        "id": "GmKsGA8JGlat"
      }
    },
    {
      "cell_type": "markdown",
      "source": [
        "Q9.  What are the key assumptions of Logistic Regression?\n",
        "\n",
        "Ans:\n",
        "\n",
        "### ✅ Key Assumptions of Logistic Regression\n",
        "\n",
        "1. **Binary or Categorical Outcome**  \n",
        "   Logistic regression assumes the dependent variable is **binary** (or can be extended to multinomial/logistic with softmax). E.g., spam vs. not spam.\n",
        "\n",
        "2. **Linearity of Log Odds**  \n",
        "   It assumes a **linear relationship between the independent variables and the log-odds** of the dependent variable — not the actual output.  \n",
        "   \\[\n",
        "   \\log\\left(\\frac{P(y=1)}{1 - P(y=1)}\\right) = \\beta_0 + \\beta_1x_1 + \\dots + \\beta_nx_n\n",
        "   \\]\n",
        "\n",
        "3. **Independence of Observations**  \n",
        "   Each observation should be **independent of the others** — violations (like time-series autocorrelation) can lead to misleading estimates.\n",
        "\n",
        "4. **Little to No Multicollinearity**  \n",
        "   Predictor variables should not be highly correlated with each other. High multicollinearity can distort the estimation of coefficients.\n",
        "\n",
        "5. **Large Sample Size**  \n",
        "   Logistic regression needs a **sufficient number of cases per predictor** to ensure stable and meaningful estimates — typically at least 10 events per variable.\n",
        "\n",
        "6. **No Outliers with Undue Influence**  \n",
        "   While logistic regression handles outliers in *Y*, extreme values in *X* can still have an outsized impact on model coefficients.\n",
        "\n",
        "---\n",
        "\n",
        "\n"
      ],
      "metadata": {
        "id": "CPYf4yQQHFe0"
      }
    },
    {
      "cell_type": "markdown",
      "source": [
        "Q10.  What are some alternatives to Logistic Regression for classification tasks?\n",
        "\n",
        "\n",
        "\n",
        "\n",
        "### 🌳 **1. Decision Trees & Random Forests**\n",
        "- **How they work**: Split data into branches based on feature values.\n",
        "- **Why use them**: No need for linearity assumptions; great for interpretability (trees) and accuracy (forests).\n",
        "- **Bonus**: Random Forests reduce overfitting by averaging multiple trees.\n",
        "\n",
        "---\n",
        "\n",
        "### 🧠 **2. Support Vector Machines (SVM)**\n",
        "- **How they work**: Find the hyperplane that best separates classes.\n",
        "- **Why use them**: Excellent for high-dimensional spaces and non-linear boundaries (with kernels).\n",
        "- **Caveat**: Can be computationally heavy on large datasets.\n",
        "\n",
        "---\n",
        "\n",
        "### 🧭 **3. k-Nearest Neighbors (k-NN)**\n",
        "- **How it works**: Classifies based on the majority class among the k closest data points.\n",
        "- **Why use it**: Simple and intuitive; no training phase.\n",
        "- **Caveat**: Slower at prediction time and sensitive to irrelevant features.\n",
        "\n",
        "---\n",
        "\n",
        "### 🧬 **4. Naive Bayes**\n",
        "- **How it works**: Applies Bayes’ Theorem assuming feature independence.\n",
        "- **Why use it**: Fast, works well with text data (e.g., spam detection).\n",
        "- **Caveat**: Assumes independence, which may not always hold.\n",
        "\n",
        "---\n",
        "\n",
        "### 🧠⚡ **5. Neural Networks**\n",
        "- **How they work**: Layers of interconnected nodes learn complex patterns.\n",
        "- **Why use them**: Extremely flexible and powerful for large, complex datasets.\n",
        "- **Caveat**: Require more data and tuning.\n",
        "\n",
        "---\n",
        "\n",
        "### 🧪 **6. Gradient Boosting Machines (e.g., XGBoost, LightGBM)**\n",
        "- **How they work**: Build models sequentially to correct previous errors.\n",
        "- **Why use them**: Often top performers in structured data competitions.\n",
        "- **Caveat**: Can be prone to overfitting if not tuned properly.\n",
        "\n",
        "---\n",
        "\n"
      ],
      "metadata": {
        "id": "w7xASQ3CHb3y"
      }
    },
    {
      "cell_type": "markdown",
      "source": [
        "Q11.  What are Classification Evaluation Metrics?\n",
        "\n",
        "Ans: Classification evaluation metrics are tools we use to **measure how well a classification model performs** — not just whether it gets predictions right, but *how* and *where* it gets them right or wrong. Here's a breakdown of the most important ones:\n",
        "\n",
        "---\n",
        "\n",
        "### 📊 **1. Accuracy**\n",
        "- **Definition**: Ratio of correct predictions to total predictions.\n",
        "- **Best for**: Balanced datasets.\n",
        "- **Caution**: Misleading when classes are imbalanced (e.g., 95% of one class).\n",
        "\n",
        "---\n",
        "\n",
        "### 🔄 **2. Confusion Matrix**\n",
        "- A table showing:\n",
        "  - **True Positives (TP)**: Correctly predicted positives\n",
        "  - **True Negatives (TN)**: Correctly predicted negatives\n",
        "  - **False Positives (FP)**: Incorrectly predicted positives\n",
        "  - **False Negatives (FN)**: Incorrectly predicted negatives\n",
        "\n",
        "---\n",
        "\n",
        "### 🎯 **3. Precision**\n",
        "- \\[\n",
        "\\text{Precision} = \\frac{TP}{TP + FP}\n",
        "\\]\n",
        "- **Meaning**: Of all predicted positives, how many were actually positive?\n",
        "- **Use case**: When **false positives** are costly (e.g., spam filters).\n",
        "\n",
        "---\n",
        "\n",
        "### 🧠 **4. Recall (Sensitivity or True Positive Rate)**\n",
        "- \\[\n",
        "\\text{Recall} = \\frac{TP}{TP + FN}\n",
        "\\]\n",
        "- **Meaning**: Of all actual positives, how many did we correctly identify?\n",
        "- **Use case**: When **false negatives** are costly (e.g., disease detection).\n",
        "\n",
        "---\n",
        "\n",
        "### ⚖️ **5. F1 Score**\n",
        "- Harmonic mean of Precision and Recall:\n",
        "  \\[\n",
        "  F1 = 2 \\cdot \\frac{\\text{Precision} \\cdot \\text{Recall}}{\\text{Precision} + \\text{Recall}}\n",
        "  \\]\n",
        "- **Best for**: Imbalanced datasets where both FP and FN matter.\n",
        "\n",
        "---\n",
        "\n",
        "### 📈 **6. ROC-AUC (Receiver Operating Characteristic - Area Under Curve)**\n",
        "- Measures the model’s ability to distinguish between classes.\n",
        "- **AUC = 1**: Perfect model, **AUC = 0.5**: Random guessing.\n",
        "\n",
        "---\n",
        "\n",
        "### 🔐 **7. Log Loss (Cross-Entropy Loss)**\n",
        "- Penalizes confident but wrong predictions.\n",
        "- Lower is better — ideal for probabilistic classifiers like Logistic Regression.\n",
        "\n",
        "---\n",
        "\n",
        "\n"
      ],
      "metadata": {
        "id": "E2LjyxPDH4RL"
      }
    },
    {
      "cell_type": "markdown",
      "source": [
        "Q12.  How does class imbalance affect Logistic Regression?\n",
        "\n",
        "Ans: Class imbalance can quietly sabotage the performance of a Logistic Regression model — especially when one class significantly outweighs the other (like 95% vs. 5%). Here's how it affects things:\n",
        "\n",
        "---\n",
        "\n",
        "### ⚠️ **Key Impacts of Class Imbalance**\n",
        "\n",
        "1. **Biased Predictions Toward the Majority Class**  \n",
        "   Logistic Regression tries to minimize overall error. If 95% of your data is class 0, the model might just predict 0 for everything — and still get 95% accuracy. But it completely misses the minority class, which might be the one you care about most (e.g., fraud detection).\n",
        "\n",
        "2. **Skewed Probability Estimates**  \n",
        "   The model’s predicted probabilities can be misleading. The intercept (bias term) gets distorted, which shifts the decision boundary unfairly toward the majority class.\n",
        "\n",
        "3. **Poor Recall for Minority Class**  \n",
        "   You’ll often see **low recall** (true positive rate) for the minority class — meaning the model fails to catch many of the actual positives.\n",
        "\n",
        "---\n",
        "\n",
        "### 🛠️ **How to Handle It**\n",
        "\n",
        "- **Use `class_weight='balanced'` in scikit-learn**: This automatically adjusts weights inversely proportional to class frequencies.\n",
        "- **Resampling Techniques**:\n",
        "  - *Oversample* the minority class (e.g., SMOTE)\n",
        "  - *Undersample* the majority class\n",
        "- **Try Different Thresholds**: Instead of the default 0.5 cutoff, tune the threshold to improve recall or precision.\n",
        "- **Use Evaluation Metrics Beyond Accuracy**: Like F1 Score, Precision-Recall AUC, or ROC-AUC.\n",
        "\n",
        "---\n",
        "\n"
      ],
      "metadata": {
        "id": "E4VtZAMuIYiM"
      }
    },
    {
      "cell_type": "markdown",
      "source": [
        "Q13.  What is Hyperparameter Tuning in Logistic Regression?\n",
        "\n",
        "Ans: Hyperparameter tuning in Logistic Regression is the process of **finding the best combination of settings** that control how the model learns — without being learned from the data itself. These settings can significantly impact performance, especially when regularization is involved.\n",
        "\n",
        "---\n",
        "\n",
        "### 🔧 **What Are Hyperparameters in Logistic Regression?**\n",
        "Some key hyperparameters include:\n",
        "\n",
        "- **`C`**: Inverse of regularization strength. Smaller values imply stronger regularization.\n",
        "- **`penalty`**: Type of regularization (`'l1'`, `'l2'`, `'elasticnet'`, or `'none'`).\n",
        "- **`solver`**: Optimization algorithm (`'liblinear'`, `'saga'`, `'lbfgs'`, etc.).\n",
        "- **`max_iter`**: Maximum number of iterations for convergence.\n",
        "\n",
        "These are not learned from the data — you set them before training.\n",
        "\n",
        "---\n",
        "\n",
        "### 🧪 **Why Tune Them?**\n",
        "Because the right combination can:\n",
        "- Improve **accuracy and generalization**\n",
        "- Prevent **overfitting or underfitting**\n",
        "- Speed up **training time**\n",
        "\n",
        "---\n",
        "\n",
        "### 🛠️ **How Do You Tune Them?**\n",
        "The most common methods are:\n",
        "\n",
        "1. **Grid Search (`GridSearchCV`)**  \n",
        "   Try all combinations from a predefined grid of hyperparameters.\n",
        "\n",
        "2. **Random Search (`RandomizedSearchCV`)**  \n",
        "   Randomly sample combinations — faster for large search spaces.\n",
        "\n",
        "3. **Bayesian Optimization / Optuna / Hyperopt**  \n",
        "   More advanced, probabilistic methods that learn which combinations are promising.\n",
        "\n",
        "---\n",
        "\n"
      ],
      "metadata": {
        "id": "Jcpc_mJoI0pm"
      }
    },
    {
      "cell_type": "markdown",
      "source": [
        "Q14.  What are different solvers in Logistic Regression? Which one should be used?\n",
        "\n",
        "Ans: In Logistic Regression, **solvers** are optimization algorithms used to minimize the cost function and find the best model parameters. Each solver has its own strengths depending on the dataset size, regularization type, and sparsity. Here's a breakdown of the main ones:\n",
        "\n",
        "---\n",
        "\n",
        "### 🧮 **Common Solvers in scikit-learn**\n",
        "\n",
        "| Solver       | Supports L1 | Supports L2 | Supports Elastic Net | Handles Large Datasets | Notes |\n",
        "|--------------|-------------|-------------|------------------------|------------------------|-------|\n",
        "| **liblinear** | ✅          | ✅          | ❌                     | ❌                     | Good for small datasets; supports binary classification and L1 |\n",
        "| **lbfgs**     | ❌          | ✅          | ❌                     | ✅                     | Fast and robust for multiclass; default in scikit-learn |\n",
        "| **newton-cg** | ❌          | ✅          | ❌                     | ✅                     | Uses second-order derivatives; good for multiclass |\n",
        "| **sag**       | ❌          | ✅          | ❌                     | ✅                     | Stochastic Average Gradient; efficient for large datasets |\n",
        "| **saga**      | ✅          | ✅          | ✅                     | ✅                     | Best for large, sparse data; supports all penalties |\n",
        "\n",
        "---\n",
        "\n"
      ],
      "metadata": {
        "id": "ry1M_EnUJQM-"
      }
    },
    {
      "cell_type": "markdown",
      "source": [
        "Q15.  How is Logistic Regression extended for multiclass classification?\n",
        "\n",
        "Ans: Logistic Regression is naturally designed for **binary classification**, but it can be extended to handle **multiclass classification** using two main strategies:\n",
        "\n",
        "---\n",
        "\n",
        "### 🔁 1. **One-vs-Rest (OvR)**\n",
        "- **How it works**: For \\( K \\) classes, train **K separate binary classifiers**. Each one predicts whether the sample belongs to class \\( k \\) or not.\n",
        "- **Prediction**: The classifier with the highest probability wins.\n",
        "- **Pros**: Simple and works well when classes are well-separated.\n",
        "- **Cons**: Can struggle when classes overlap or are imbalanced.\n",
        "\n",
        "---\n",
        "\n",
        "### 🔄 2. **Multinomial Logistic Regression (Softmax Regression)**\n",
        "- **How it works**: Uses a **single model** with a **softmax function** to predict probabilities across all classes simultaneously.\n",
        "- **Equation**:\n",
        "  \\[\n",
        "  P(y = k \\mid x) = \\frac{e^{\\theta_k^T x}}{\\sum_{j=1}^{K} e^{\\theta_j^T x}}\n",
        "  \\]\n",
        "- **Loss Function**: Cross-entropy loss generalized for multiple classes.\n",
        "- **Pros**: More elegant and efficient for multiclass problems.\n",
        "- **Cons**: Slightly more complex to implement and optimize."
      ],
      "metadata": {
        "id": "fDgBRFKPJyO3"
      }
    },
    {
      "cell_type": "markdown",
      "source": [
        "Q16.  What are the advantages and disadvantages of Logistic Regression?\n",
        "\n",
        "Ans: Logistic Regression is a classic — simple, interpretable, and surprisingly effective in many real-world scenarios. But like any tool, it has its strengths and limitations. Here's a clear breakdown:\n",
        "\n",
        "---\n",
        "\n",
        "### ✅ **Advantages of Logistic Regression**\n",
        "\n",
        "1. **Easy to Implement and Interpret**  \n",
        "   It’s straightforward to train and the coefficients offer direct insight into feature importance and direction (positive or negative influence).\n",
        "\n",
        "2. **Efficient and Scalable**  \n",
        "   Works well even on large datasets and high-dimensional feature spaces — especially with regularization.\n",
        "\n",
        "3. **Probabilistic Output**  \n",
        "   Instead of just predicting a class, it gives you the **probability** of belonging to a class — great for decision-making under uncertainty.\n",
        "\n",
        "4. **Less Prone to Overfitting (with Regularization)**  \n",
        "   Especially when using L1 or L2 penalties, it generalizes well on unseen data.\n",
        "\n",
        "5. **Works with Linearly Separable Data**  \n",
        "   Performs well when the classes can be separated with a linear boundary.\n",
        "\n",
        "6. **Extensible to Multiclass Problems**  \n",
        "   With strategies like One-vs-Rest or Softmax, it can handle more than two classes.\n",
        "\n",
        "---\n",
        "\n",
        "### ⚠️ **Disadvantages of Logistic Regression**\n",
        "\n",
        "1. **Assumes Linearity in Log-Odds**  \n",
        "   It assumes a linear relationship between input features and the log-odds of the outcome — which may not hold in complex datasets.\n",
        "\n",
        "2. **Not Ideal for Nonlinear Problems**  \n",
        "   It struggles with datasets where the decision boundary is nonlinear unless you manually engineer features or use kernels.\n",
        "\n",
        "3. **Sensitive to Outliers and Multicollinearity**  \n",
        "   Outliers can skew the model, and highly correlated features can make coefficient estimates unstable.\n",
        "\n",
        "4. **Limited Expressiveness**  \n",
        "   Compared to models like Random Forests or Neural Networks, it may underperform on complex patterns.\n",
        "\n",
        "5. **Binary by Nature**  \n",
        "   While it can be extended to multiclass, it’s inherently a binary classifier — extensions add complexity.\n",
        "\n",
        "---\n",
        "\n"
      ],
      "metadata": {
        "id": "AN4LAa82KPW8"
      }
    },
    {
      "cell_type": "markdown",
      "source": [
        "Q17.  What are some use cases of Logistic Regression?\n",
        "\n",
        "Ans: Logistic Regression may be simple, but it’s a powerhouse in real-world applications where **binary or categorical outcomes** are involved. Here are some compelling use cases across industries:\n",
        "\n",
        "---\n",
        "\n",
        "### 🏥 **1. Healthcare**\n",
        "- **Disease Diagnosis**: Predict whether a patient has a disease (e.g., diabetes: yes/no) based on clinical features like age, BMI, and blood pressure.\n",
        "- **Hospital Readmission**: Estimate the likelihood of a patient being readmitted within 30 days.\n",
        "\n",
        "---\n",
        "\n",
        "### 💳 **2. Finance**\n",
        "- **Credit Scoring**: Determine whether a loan applicant is likely to default.\n",
        "- **Fraud Detection**: Classify transactions as fraudulent or legitimate based on transaction patterns.\n",
        "\n",
        "---\n",
        "\n",
        "### 📧 **3. Marketing & Email Filtering**\n",
        "- **Spam Detection**: Classify emails as spam or not spam based on word frequency, sender, etc.\n",
        "- **Customer Churn Prediction**: Predict whether a customer is likely to stop using a service.\n",
        "\n",
        "---\n",
        "\n",
        "### 🏫 **4. Education**\n",
        "- **Admission Prediction**: Estimate the probability of a student being accepted into a university based on GPA, test scores, and extracurriculars.\n",
        "\n",
        "---\n",
        "\n",
        "### 🚗 **5. Transportation**\n",
        "- **Driver Risk Assessment**: Predict whether a driver is high-risk based on driving history and behavior.\n",
        "- **Accident Likelihood**: Estimate the probability of an accident occurring under certain conditions.\n",
        "\n",
        "---\n",
        "\n",
        "### 🧪 **6. Manufacturing & Quality Control**\n",
        "- **Defect Detection**: Predict whether a product will pass or fail quality inspection based on sensor data.\n",
        "\n",
        "---\n"
      ],
      "metadata": {
        "id": "OISIC9DnKe66"
      }
    },
    {
      "cell_type": "markdown",
      "source": [
        "Q18.  What is the difference between Softmax Regression and Logistic Regression?\n",
        "\n",
        "Ans:\n",
        "\n",
        "### 🔹 Logistic Regression\n",
        "- **Used for**: **Binary classification** (e.g., Yes/No, 0/1).\n",
        "- **Activation Function**: **Sigmoid function**, which maps values to a range between 0 and 1.\n",
        "- **Output**: Predicts **probability of one class**; if it's ≥ 0.5, predict class 1, else class 0.\n",
        "- **Equation**:  \n",
        "  \\[\n",
        "  P(y=1|x) = \\frac{1}{1 + e^{-(\\beta_0 + \\beta_1x_1 + \\ldots + \\beta_nx_n)}}\n",
        "  \\]\n",
        "\n",
        "### 🔸 Softmax Regression (Multinomial Logistic Regression)\n",
        "- **Used for**: **Multiclass classification** (e.g., Class A, B, C…).\n",
        "- **Activation Function**: **Softmax function**, which squashes values so they sum to 1 across all classes.\n",
        "- **Output**: Predicts **probability distribution over all classes**.\n",
        "- **Equation**:  \n",
        "  \\[\n",
        "  P(y = k \\mid x) = \\frac{e^{\\theta_k^T x}}{\\sum_{j=1}^{K} e^{\\theta_j^T x}}\n",
        "  \\]\n",
        "  where \\( k \\) is one of the \\( K \\) possible classes.\n",
        "\n"
      ],
      "metadata": {
        "id": "cYAVepgvWCdF"
      }
    },
    {
      "cell_type": "markdown",
      "source": [
        "Q19.  How do we choose between One-vs-Rest (OvR) and Softmax for multiclass classification?\n",
        "\n",
        "Ans: Choosing between **One-vs-Rest (OvR)** and **Softmax** for multiclass classification boils down to a few key factors like model complexity, interpretability, and data characteristics. Here’s a crisp comparison to help you decide:\n",
        "\n",
        "---\n",
        "\n",
        "### 🧠 **One-vs-Rest (OvR)**\n",
        "- **How it works**: Trains *K* separate binary classifiers (one per class).\n",
        "- **Prediction**: The classifier with the highest confidence wins.\n",
        "\n",
        "#### ✅ When to Use:\n",
        "- ✔️ **Simple models** or if you’re already using binary logistic regression and want to scale it.\n",
        "- ✔️ **Imbalanced classes** — OvR can perform better by isolating rare classes.\n",
        "- ✔️ **Interpretability** is a priority — each binary model offers insights into one class at a time.\n",
        "- ✔️ **Computational simplicity** — easy to parallelize across classes.\n",
        "\n",
        "#### ❌ Downsides:\n",
        "- ❗May lead to inconsistent probability estimates (they don’t sum to 1).\n",
        "- ❗Can be suboptimal if class boundaries are not clearly separated.\n",
        "\n",
        "---\n",
        "\n",
        "### 🧮 **Softmax (Multinomial Logistic Regression)**\n",
        "- **How it works**: A single model using the softmax function outputs probabilities for all classes simultaneously.\n",
        "- **Prediction**: Chooses the class with the highest softmax probability.\n",
        "\n",
        "#### ✅ When to Use:\n",
        "- ✔️ **Probabilistic interpretation matters** — outputs a true probability distribution (sums to 1).\n",
        "- ✔️ You want a **joint decision boundary** across all classes.\n",
        "- ✔️ The data is **well balanced**, or classes are closely related/overlapping.\n",
        "\n",
        "#### ❌ Downsides:\n",
        "- ❗Slightly more complex to optimize and train.\n",
        "- ❗Less interpretable if you're trying to understand each class separately.\n",
        "\n",
        "---\n",
        "\n",
        "### ⚖️ Decision Table\n",
        "\n",
        "| Criteria                       | One-vs-Rest (OvR) | Softmax Regression     |\n",
        "|-------------------------------|-------------------|------------------------|\n",
        "| Model simplicity               | ✅ Simple          | 🔄 Slightly complex     |\n",
        "| Class imbalance handling       | ✅ Better suited   | ❌ Needs balancing      |\n",
        "| Probability calibration        | ❌ Not ideal       | ✅ Well-calibrated      |\n",
        "| Interpretability               | ✅ Clear per class | 🔄 Less granular        |\n",
        "| Parallel training              | ✅ Possible        | ❌ Single model         |\n",
        "| Joint decision boundaries      | ❌ No              | ✅ Yes                  |\n",
        "\n",
        "---\n",
        "\n",
        "### 🧩 TL;DR:\n",
        "- If you want **fast**, interpretable results and have **imbalanced data** → Go with **OvR**.\n",
        "- If you want **more precise probability outputs** and your classes are well distributed → **Softmax** is more elegant.\n",
        "\n"
      ],
      "metadata": {
        "id": "6QZDzuBJW7i-"
      }
    },
    {
      "cell_type": "markdown",
      "source": [
        "Q20.  How do we interpret coefficients in Logistic Regression?\n",
        "\n",
        "Ans:\n",
        "\n",
        "---\n",
        "\n",
        "### 📘 **Logistic Regression Coefficients: Intuition**\n",
        "\n",
        "Each coefficient represents the **change in the log-odds** of the target variable when the corresponding predictor increases by 1 unit, holding other variables constant.\n",
        "\n",
        "Mathematically, for a feature \\( x_j \\) with coefficient \\( \\beta_j \\):\n",
        "\n",
        "\\[\n",
        "\\log\\left(\\frac{P(y=1)}{1 - P(y=1)}\\right) = \\beta_0 + \\beta_1x_1 + \\ldots + \\beta_jx_j\n",
        "\\]\n",
        "\n",
        "---\n",
        "\n",
        "### 🔁 **Convert Log-Odds to Odds Ratio**\n",
        "\n",
        "To make interpretation easier, we exponentiate the coefficient:\n",
        "\n",
        "\\[\n",
        "\\text{Odds Ratio} = e^{\\beta_j}\n",
        "\\]\n",
        "\n",
        "This tells you **how the odds change** when \\( x_j \\) increases by one unit.\n",
        "\n",
        "---\n",
        "\n",
        "### ✅ **How to Interpret the Values**\n",
        "\n",
        "| Coefficient \\( \\beta_j \\) | Odds Ratio \\( e^{\\beta_j} \\) | Interpretation |\n",
        "|---------------------------|-------------------------------|----------------|\n",
        "| 0                         | 1                             | No effect on outcome |\n",
        "| > 0                       | > 1                          | Increases odds of positive class |\n",
        "| < 0                       | < 1                          | Decreases odds of positive class |\n",
        "\n",
        "🧠 **Example**: If \\( \\beta_j = 0.7 \\), then \\( e^{0.7} ≈ 2.01 \\).  \n",
        "This means a one-unit increase in \\( x_j \\) **doubles** the odds of the outcome.\n",
        "\n",
        "---\n",
        "\n"
      ],
      "metadata": {
        "id": "lw5WCbCKXbD9"
      }
    },
    {
      "cell_type": "markdown",
      "source": [
        "# Practical"
      ],
      "metadata": {
        "id": "CG1dD9HxYEKj"
      }
    },
    {
      "cell_type": "markdown",
      "source": [
        "Q1. Write a Python program that loads a dataset, splits it into training and testing sets, applies Logistic\n",
        "Regression, and prints the model accuracy.\n",
        "\n",
        "Ans:"
      ],
      "metadata": {
        "id": "1DbmZXlOYLFu"
      }
    },
    {
      "cell_type": "code",
      "source": [
        "from sklearn.datasets import load_iris\n",
        "from sklearn.linear_model import LogisticRegression\n",
        "from sklearn.model_selection import train_test_split\n",
        "from sklearn.metrics import accuracy_score\n",
        "\n",
        "# Step 1: Load the dataset\n",
        "iris = load_iris()\n",
        "X = iris.data  # features\n",
        "y = iris.target  # target classes\n",
        "\n",
        "# Step 2: Split into training and testing sets\n",
        "X_train, X_test, y_train, y_test = train_test_split(\n",
        "    X, y, test_size=0.3, random_state=42, stratify=y\n",
        ")\n",
        "\n",
        "# Step 3: Apply Logistic Regression\n",
        "model = LogisticRegression(max_iter=200)  # Increase max_iter for convergence\n",
        "model.fit(X_train, y_train)\n",
        "\n",
        "# Step 4: Predict and evaluate\n",
        "y_pred = model.predict(X_test)\n",
        "accuracy = accuracy_score(y_test, y_pred)\n",
        "\n",
        "print(f\"Model Accuracy: {accuracy:.2%}\")\n"
      ],
      "metadata": {
        "colab": {
          "base_uri": "https://localhost:8080/"
        },
        "id": "TiLvdv5VYhCz",
        "outputId": "9778707a-8bdd-4a66-9dbe-b6c2d209efbc"
      },
      "execution_count": 1,
      "outputs": [
        {
          "output_type": "stream",
          "name": "stdout",
          "text": [
            "Model Accuracy: 93.33%\n"
          ]
        }
      ]
    },
    {
      "cell_type": "markdown",
      "source": [
        "Q2. Write a Python program to apply L1 regularization (Lasso) on a dataset using LogisticRegression(penalty='l1')\n",
        "and print the model accuracy.\n",
        "\n",
        "Ans:"
      ],
      "metadata": {
        "id": "o1aQqPHGYqjt"
      }
    },
    {
      "cell_type": "code",
      "source": [
        "from sklearn.datasets import load_iris\n",
        "from sklearn.linear_model import LogisticRegression\n",
        "from sklearn.model_selection import train_test_split\n",
        "from sklearn.preprocessing import StandardScaler\n",
        "from sklearn.metrics import accuracy_score\n",
        "\n",
        "# Load the dataset\n",
        "iris = load_iris()\n",
        "X, y = iris.data, iris.target\n",
        "\n",
        "# Split the dataset\n",
        "X_train, X_test, y_train, y_test = train_test_split(\n",
        "    X, y, test_size=0.3, random_state=42, stratify=y\n",
        ")\n",
        "\n",
        "# Scale the features\n",
        "scaler = StandardScaler()\n",
        "X_train_scaled = scaler.fit_transform(X_train)\n",
        "X_test_scaled = scaler.transform(X_test)\n",
        "\n",
        "# Train the Logistic Regression model with L1 regularization\n",
        "model = LogisticRegression(\n",
        "    penalty='l1',\n",
        "    solver='saga',\n",
        "    max_iter=1000\n",
        ")\n",
        "model.fit(X_train_scaled, y_train)\n",
        "\n",
        "# Predict and evaluate\n",
        "y_pred = model.predict(X_test_scaled)\n",
        "accuracy = accuracy_score(y_test, y_pred)\n",
        "\n",
        "print(f\"L1-Regularized Logistic Regression Accuracy: {accuracy:.2%}\")\n"
      ],
      "metadata": {
        "colab": {
          "base_uri": "https://localhost:8080/"
        },
        "id": "3ZztIJEEZYmj",
        "outputId": "eb0bc28e-f664-4893-afd2-9e6f842eafc5"
      },
      "execution_count": 3,
      "outputs": [
        {
          "output_type": "stream",
          "name": "stdout",
          "text": [
            "L1-Regularized Logistic Regression Accuracy: 91.11%\n"
          ]
        }
      ]
    },
    {
      "cell_type": "markdown",
      "source": [
        "Q3. Write a Python program to train Logistic Regression with L2 regularization (Ridge) using\n",
        "LogisticRegression(penalty='l2'). Print model accuracy and coefficients.\n",
        "\n",
        "Ans:"
      ],
      "metadata": {
        "id": "RDz8MEeMZbrA"
      }
    },
    {
      "cell_type": "code",
      "source": [
        "from sklearn.datasets import load_iris\n",
        "from sklearn.linear_model import LogisticRegression\n",
        "from sklearn.model_selection import train_test_split\n",
        "from sklearn.preprocessing import StandardScaler\n",
        "from sklearn.metrics import accuracy_score\n",
        "\n",
        "# Load the dataset\n",
        "iris = load_iris()\n",
        "X, y = iris.data, iris.target\n",
        "\n",
        "# Train-test split\n",
        "X_train, X_test, y_train, y_test = train_test_split(\n",
        "    X, y, test_size=0.3, stratify=y, random_state=42\n",
        ")\n",
        "\n",
        "# Feature scaling\n",
        "scaler = StandardScaler()\n",
        "X_train_scaled = scaler.fit_transform(X_train)\n",
        "X_test_scaled = scaler.transform(X_test)\n",
        "\n",
        "# Train logistic regression model with L2 penalty (Ridge)\n",
        "model = LogisticRegression(\n",
        "    penalty='l2',\n",
        "    solver='lbfgs',  # efficient for multinomial + L2\n",
        "    max_iter=1000\n",
        ")\n",
        "model.fit(X_train_scaled, y_train)\n",
        "\n",
        "# Predict and evaluate\n",
        "y_pred = model.predict(X_test_scaled)\n",
        "accuracy = accuracy_score(y_test, y_pred)\n",
        "\n",
        "# Display results\n",
        "print(f\"L2-Regularized Logistic Regression Accuracy: {accuracy:.2%}\")\n",
        "print(\"Model Coefficients:\")\n",
        "for i, class_coef in enumerate(model.coef_):\n",
        "    print(f\"Class {i}: {class_coef}\")\n"
      ],
      "metadata": {
        "colab": {
          "base_uri": "https://localhost:8080/"
        },
        "id": "1mrInNLZZw12",
        "outputId": "f83d822f-79c2-4b6f-cb78-296ddf5e0f7b"
      },
      "execution_count": 4,
      "outputs": [
        {
          "output_type": "stream",
          "name": "stdout",
          "text": [
            "L2-Regularized Logistic Regression Accuracy: 91.11%\n",
            "Model Coefficients:\n",
            "Class 0: [-1.07729095  0.95458815 -1.6995494  -1.60291044]\n",
            "Class 1: [ 0.47337276 -0.44711131 -0.11640768 -0.79304707]\n",
            "Class 2: [ 0.60391819 -0.50747684  1.81595708  2.39595751]\n"
          ]
        }
      ]
    },
    {
      "cell_type": "markdown",
      "source": [
        "Q4. Write a Python program to train Logistic Regression with Elastic Net Regularization (penalty='elasticnet')\n",
        "\n",
        "Ans:"
      ],
      "metadata": {
        "id": "jzyPdfEYZ8XE"
      }
    },
    {
      "cell_type": "code",
      "source": [
        "from sklearn.datasets import load_iris\n",
        "from sklearn.linear_model import LogisticRegression\n",
        "from sklearn.model_selection import train_test_split\n",
        "from sklearn.preprocessing import StandardScaler\n",
        "from sklearn.metrics import accuracy_score\n",
        "\n",
        "# Step 1: Load dataset\n",
        "iris = load_iris()\n",
        "X, y = iris.data, iris.target\n",
        "\n",
        "# Step 2: Split data\n",
        "X_train, X_test, y_train, y_test = train_test_split(\n",
        "    X, y, test_size=0.3, stratify=y, random_state=42\n",
        ")\n",
        "\n",
        "# Step 3: Scale features\n",
        "scaler = StandardScaler()\n",
        "X_train_scaled = scaler.fit_transform(X_train)\n",
        "X_test_scaled = scaler.transform(X_test)\n",
        "\n",
        "# Step 4: Train Logistic Regression with Elastic Net\n",
        "model = LogisticRegression(\n",
        "    penalty='elasticnet',\n",
        "    l1_ratio=0.5,           # 0 = L2 only, 1 = L1 only; 0.5 = mix\n",
        "    solver='saga',          # saga supports elasticnet\n",
        "    max_iter=1000\n",
        ")\n",
        "model.fit(X_train_scaled, y_train)\n",
        "\n",
        "# Step 5: Predict and evaluate\n",
        "y_pred = model.predict(X_test_scaled)\n",
        "accuracy = accuracy_score(y_test, y_pred)\n",
        "\n",
        "# Step 6: Display results\n",
        "print(f\"Elastic Net Logistic Regression Accuracy: {accuracy:.2%}\")\n",
        "print(\"Model Coefficients (per class):\")\n",
        "for i, coef in enumerate(model.coef_):\n",
        "    print(f\"Class {i}: {coef}\")\n"
      ],
      "metadata": {
        "colab": {
          "base_uri": "https://localhost:8080/"
        },
        "id": "K55cbKiva9Mw",
        "outputId": "6bb74036-3d35-4440-e82a-a4676e9f1a04"
      },
      "execution_count": 5,
      "outputs": [
        {
          "output_type": "stream",
          "name": "stdout",
          "text": [
            "Elastic Net Logistic Regression Accuracy: 91.11%\n",
            "Model Coefficients (per class):\n",
            "Class 0: [-0.91176141  1.0887363  -1.92807271 -1.7163802 ]\n",
            "Class 1: [ 0.          0.          0.         -0.38356415]\n",
            "Class 2: [ 0.07943851 -0.10662635  2.15552745  3.08915431]\n"
          ]
        }
      ]
    },
    {
      "cell_type": "markdown",
      "source": [
        "Q5. Write a Python program to train a Logistic Regression model for multiclass classification using\n",
        "multi_class='ovr.\n",
        "\n",
        "Ans:"
      ],
      "metadata": {
        "id": "MUr3PEjfbACC"
      }
    },
    {
      "cell_type": "code",
      "source": [
        "from sklearn.datasets import load_iris\n",
        "from sklearn.linear_model import LogisticRegression\n",
        "from sklearn.model_selection import train_test_split\n",
        "from sklearn.preprocessing import StandardScaler\n",
        "from sklearn.metrics import accuracy_score\n",
        "\n",
        "# Step 1: Load dataset\n",
        "iris = load_iris()\n",
        "X, y = iris.data, iris.target\n",
        "\n",
        "# Step 2: Train-test split\n",
        "X_train, X_test, y_train, y_test = train_test_split(\n",
        "    X, y, test_size=0.3, stratify=y, random_state=42\n",
        ")\n",
        "\n",
        "# Step 3: Standardize features\n",
        "scaler = StandardScaler()\n",
        "X_train_scaled = scaler.fit_transform(X_train)\n",
        "X_test_scaled = scaler.transform(X_test)\n",
        "\n",
        "# Step 4: Train logistic regression with One-vs-Rest\n",
        "model = LogisticRegression(\n",
        "    multi_class='ovr',\n",
        "    solver='lbfgs',     # 'lbfgs' supports OvR for multiclass\n",
        "    max_iter=1000\n",
        ")\n",
        "model.fit(X_train_scaled, y_train)\n",
        "\n",
        "# Step 5: Predict and evaluate\n",
        "y_pred = model.predict(X_test_scaled)\n",
        "accuracy = accuracy_score(y_test, y_pred)\n",
        "\n",
        "# Step 6: Output\n",
        "print(f\"Logistic Regression (OvR) Accuracy: {accuracy:.2%}\")\n",
        "print(\"Model Coefficients:\")\n",
        "for i, coef in enumerate(model.coef_):\n",
        "    print(f\"Class {i}: {coef}\")\n"
      ],
      "metadata": {
        "colab": {
          "base_uri": "https://localhost:8080/"
        },
        "id": "Dri1N9_6bOie",
        "outputId": "a04cd689-4775-427c-969d-abd2b6b8b3b7"
      },
      "execution_count": 6,
      "outputs": [
        {
          "output_type": "stream",
          "name": "stdout",
          "text": [
            "Logistic Regression (OvR) Accuracy: 84.44%\n",
            "Model Coefficients:\n",
            "Class 0: [-1.05839897  1.09805041 -1.63134902 -1.51492463]\n",
            "Class 1: [ 0.14066193 -1.4672837   0.73765574 -0.89649472]\n",
            "Class 2: [ 0.36075756 -0.19802737  1.95035682  2.81891707]\n"
          ]
        },
        {
          "output_type": "stream",
          "name": "stderr",
          "text": [
            "/usr/local/lib/python3.11/dist-packages/sklearn/linear_model/_logistic.py:1256: FutureWarning: 'multi_class' was deprecated in version 1.5 and will be removed in 1.7. Use OneVsRestClassifier(LogisticRegression(..)) instead. Leave it to its default value to avoid this warning.\n",
            "  warnings.warn(\n"
          ]
        }
      ]
    },
    {
      "cell_type": "markdown",
      "source": [
        "Q6. Write a Python program to apply GridSearchCV to tune the hyperparameters (C and penalty) of Logistic\n",
        "Regression. Print the best parameters and accuracy.\n",
        "\n",
        "Ans:"
      ],
      "metadata": {
        "id": "f-YIKk3SbSVo"
      }
    },
    {
      "cell_type": "code",
      "source": [
        "from sklearn.datasets import load_iris\n",
        "from sklearn.model_selection import train_test_split, GridSearchCV\n",
        "from sklearn.preprocessing import StandardScaler\n",
        "from sklearn.linear_model import LogisticRegression\n",
        "from sklearn.metrics import accuracy_score\n",
        "\n",
        "# Load dataset\n",
        "iris = load_iris()\n",
        "X, y = iris.data, iris.target\n",
        "\n",
        "# Split dataset\n",
        "X_train, X_test, y_train, y_test = train_test_split(\n",
        "    X, y, stratify=y, test_size=0.3, random_state=42\n",
        ")\n",
        "\n",
        "# Feature scaling\n",
        "scaler = StandardScaler()\n",
        "X_train_scaled = scaler.fit_transform(X_train)\n",
        "X_test_scaled = scaler.transform(X_test)\n",
        "\n",
        "# Define logistic regression model\n",
        "model = LogisticRegression(solver='saga', max_iter=1000)\n",
        "\n",
        "# Define separate grids for valid combinations\n",
        "param_grid = [\n",
        "    {'penalty': ['l1', 'l2'], 'C': [0.01, 0.1, 1.0, 10]},\n",
        "    {'penalty': ['elasticnet'], 'C': [0.01, 0.1, 1.0, 10], 'l1_ratio': [0.5]}\n",
        "]\n",
        "\n",
        "# Grid Search\n",
        "grid = GridSearchCV(model, param_grid, cv=5, scoring='accuracy', n_jobs=-1)\n",
        "grid.fit(X_train_scaled, y_train)\n",
        "\n",
        "# Evaluate best model\n",
        "best_model = grid.best_estimator_\n",
        "y_pred = best_model.predict(X_test_scaled)\n",
        "accuracy = accuracy_score(y_test, y_pred)\n",
        "\n",
        "# Output\n",
        "print(\"Best Parameters:\", grid.best_params_)\n",
        "print(f\"Best Accuracy: {accuracy:.2%}\")\n"
      ],
      "metadata": {
        "colab": {
          "base_uri": "https://localhost:8080/"
        },
        "id": "5GoFUKwWcEVE",
        "outputId": "679549c9-b445-4810-e6e5-59d7b7aeab09"
      },
      "execution_count": 8,
      "outputs": [
        {
          "output_type": "stream",
          "name": "stdout",
          "text": [
            "Best Parameters: {'C': 1.0, 'penalty': 'l2'}\n",
            "Best Accuracy: 91.11%\n"
          ]
        }
      ]
    },
    {
      "cell_type": "markdown",
      "source": [
        "Q7. Write a Python program to evaluate Logistic Regression using Stratified K-Fold Cross-Validation. Print the\n",
        "average accuracy.\n",
        "\n",
        "Ans:"
      ],
      "metadata": {
        "id": "FpdbjDOEcHBq"
      }
    },
    {
      "cell_type": "code",
      "source": [
        "from sklearn.datasets import load_iris\n",
        "from sklearn.linear_model import LogisticRegression\n",
        "from sklearn.model_selection import StratifiedKFold, cross_val_score\n",
        "from sklearn.preprocessing import StandardScaler\n",
        "import numpy as np\n",
        "\n",
        "# Load dataset\n",
        "iris = load_iris()\n",
        "X, y = iris.data, iris.target\n",
        "\n",
        "# Scale features\n",
        "scaler = StandardScaler()\n",
        "X_scaled = scaler.fit_transform(X)\n",
        "\n",
        "# Initialize model\n",
        "model = LogisticRegression(solver='lbfgs', max_iter=1000)\n",
        "\n",
        "# Define Stratified K-Fold cross-validation\n",
        "skf = StratifiedKFold(n_splits=5, shuffle=True, random_state=42)\n",
        "\n",
        "# Perform cross-validation\n",
        "accuracies = cross_val_score(model, X_scaled, y, cv=skf, scoring='accuracy')\n",
        "\n",
        "# Print average accuracy\n",
        "print(\"Cross-Validation Accuracies:\", accuracies)\n",
        "print(f\"Average Accuracy: {np.mean(accuracies):.2%}\")\n"
      ],
      "metadata": {
        "colab": {
          "base_uri": "https://localhost:8080/"
        },
        "id": "z9e2pcBXcXPK",
        "outputId": "a39b4d2b-7310-47ab-d655-207ae4b89e9f"
      },
      "execution_count": 9,
      "outputs": [
        {
          "output_type": "stream",
          "name": "stdout",
          "text": [
            "Cross-Validation Accuracies: [1.         0.96666667 0.9        1.         0.9       ]\n",
            "Average Accuracy: 95.33%\n"
          ]
        }
      ]
    },
    {
      "cell_type": "markdown",
      "source": [
        "Q8. Write a Python program to load a dataset from a CSV file, apply Logistic Regression, and evaluate its\n",
        "accuracy.\n",
        "\n",
        "Ans:"
      ],
      "metadata": {
        "id": "la0ohTSycbip"
      }
    },
    {
      "cell_type": "code",
      "source": [
        "import pandas as pd\n",
        "from sklearn.linear_model import LogisticRegression\n",
        "from sklearn.model_selection import train_test_split\n",
        "from sklearn.preprocessing import StandardScaler\n",
        "from sklearn.metrics import accuracy_score\n",
        "import os\n",
        "\n",
        "# Step 1: Load dataset from CSV\n",
        "file_path = 'your_dataset.csv'  # 🔁 Replace with your actual CSV filename\n",
        "\n",
        "# Check if the file exists\n",
        "if not os.path.exists(file_path):\n",
        "    raise FileNotFoundError(f\"File not found: {file_path}\")\n",
        "\n",
        "# Load the dataset\n",
        "df = pd.read_csv(file_path)\n",
        "\n",
        "# Step 2: Prepare features and target\n",
        "# 🔁 Replace 'target' with your actual target column name\n",
        "X = df.drop('target', axis=1)\n",
        "y = df['target']\n",
        "\n",
        "# Step 3: Train-test split\n",
        "X_train, X_test, y_train, y_test = train_test_split(\n",
        "    X, y, test_size=0.3, stratify=y, random_state=42\n",
        ")\n",
        "\n",
        "# Step 4: Scale features\n",
        "scaler = StandardScaler()\n",
        "X_train_scaled = scaler.fit_transform(X_train)\n",
        "X_test_scaled = scaler.transform(X_test)\n",
        "\n",
        "# Step 5: Train Logistic Regression model\n",
        "model = LogisticRegression(solver='lbfgs', max_iter=1000)\n",
        "model.fit(X_train_scaled, y_train)\n",
        "\n",
        "# Step 6: Predict and evaluate\n",
        "y_pred = model.predict(X_test_scaled)\n",
        "accuracy = accuracy_score(y_test, y_pred)\n",
        "\n",
        "# Step 7: Output result\n",
        "print(f\"Logistic Regression Accuracy: {accuracy:.2%}\")\n"
      ],
      "metadata": {
        "id": "qWwAaxwkdOHH"
      },
      "execution_count": null,
      "outputs": []
    },
    {
      "cell_type": "markdown",
      "source": [
        "Q9. Write a Python program to apply RandomizedSearchCV for tuning hyperparameters (C, penalty, solver) in\n",
        "Logistic Regression. Print the best parameters and accuracy.\n",
        "\n",
        "Ans:"
      ],
      "metadata": {
        "id": "BYMljnymdSbz"
      }
    },
    {
      "cell_type": "code",
      "source": [
        "import pandas as pd\n",
        "from sklearn.datasets import load_iris\n",
        "from sklearn.linear_model import LogisticRegression\n",
        "from sklearn.model_selection import RandomizedSearchCV, train_test_split\n",
        "from sklearn.preprocessing import StandardScaler\n",
        "from sklearn.metrics import accuracy_score\n",
        "from scipy.stats import uniform\n",
        "\n",
        "# Load dataset\n",
        "iris = load_iris()\n",
        "X, y = iris.data, iris.target\n",
        "\n",
        "# Train-test split\n",
        "X_train, X_test, y_train, y_test = train_test_split(\n",
        "    X, y, stratify=y, test_size=0.3, random_state=42\n",
        ")\n",
        "\n",
        "# Scale features\n",
        "scaler = StandardScaler()\n",
        "X_train_scaled = scaler.fit_transform(X_train)\n",
        "X_test_scaled = scaler.transform(X_test)\n",
        "\n",
        "# Model\n",
        "model = LogisticRegression(solver='saga', max_iter=1000)\n",
        "\n",
        "# Parameter grid with conditional search space\n",
        "search_space = [\n",
        "    {'penalty': ['l1', 'l2'], 'C': uniform(0.01, 10)},\n",
        "    {'penalty': ['elasticnet'], 'C': uniform(0.01, 10), 'l1_ratio': [0.0, 0.25, 0.5, 0.75, 1.0]},\n",
        "]\n",
        "\n",
        "# Randomized Search\n",
        "search = RandomizedSearchCV(\n",
        "    model,\n",
        "    search_space,\n",
        "    n_iter=20,\n",
        "    cv=5,\n",
        "    scoring='accuracy',\n",
        "    n_jobs=-1,\n",
        "    random_state=42\n",
        ")\n",
        "search.fit(X_train_scaled, y_train)\n",
        "\n",
        "# Evaluate best model\n",
        "best_model = search.best_estimator_\n",
        "y_pred = best_model.predict(X_test_scaled)\n",
        "accuracy = accuracy_score(y_test, y_pred)\n",
        "\n",
        "# Results\n",
        "print(\"Best Parameters:\", search.best_params_)\n",
        "print(f\"Best Accuracy: {accuracy:.2%}\")\n"
      ],
      "metadata": {
        "colab": {
          "base_uri": "https://localhost:8080/"
        },
        "id": "Uu11kfZKekDk",
        "outputId": "0a890cc5-69eb-4474-dd6d-edbf8d9db7d1"
      },
      "execution_count": 13,
      "outputs": [
        {
          "output_type": "stream",
          "name": "stdout",
          "text": [
            "Best Parameters: {'C': np.float64(0.5741157902710026), 'l1_ratio': 0.75, 'penalty': 'elasticnet'}\n",
            "Best Accuracy: 91.11%\n"
          ]
        }
      ]
    },
    {
      "cell_type": "markdown",
      "source": [
        "Q10.  Write a Python program to implement One-vs-One (OvO) Multiclass Logistic Regression and print accuracy\n",
        "\n",
        "Ans:"
      ],
      "metadata": {
        "id": "_PTqr-vHetdx"
      }
    },
    {
      "cell_type": "code",
      "source": [
        "from sklearn.datasets import load_iris\n",
        "from sklearn.linear_model import LogisticRegression\n",
        "from sklearn.multiclass import OneVsOneClassifier\n",
        "from sklearn.model_selection import train_test_split\n",
        "from sklearn.preprocessing import StandardScaler\n",
        "from sklearn.metrics import accuracy_score\n",
        "\n",
        "# Step 1: Load dataset\n",
        "iris = load_iris()\n",
        "X, y = iris.data, iris.target\n",
        "\n",
        "# Step 2: Train-test split\n",
        "X_train, X_test, y_train, y_test = train_test_split(\n",
        "    X, y, stratify=y, test_size=0.3, random_state=42\n",
        ")\n",
        "\n",
        "# Step 3: Scale features\n",
        "scaler = StandardScaler()\n",
        "X_train_scaled = scaler.fit_transform(X_train)\n",
        "X_test_scaled = scaler.transform(X_test)\n",
        "\n",
        "# Step 4: Wrap logistic regression with One-vs-One strategy\n",
        "base_model = LogisticRegression(solver='lbfgs', max_iter=1000)\n",
        "ovo_model = OneVsOneClassifier(base_model)\n",
        "ovo_model.fit(X_train_scaled, y_train)\n",
        "\n",
        "# Step 5: Predict and evaluate\n",
        "y_pred = ovo_model.predict(X_test_scaled)\n",
        "accuracy = accuracy_score(y_test, y_pred)\n",
        "\n",
        "# Step 6: Output results\n",
        "print(\"One-vs-One Logistic Regression Accuracy:\", f\"{accuracy:.2%}\")\n"
      ],
      "metadata": {
        "colab": {
          "base_uri": "https://localhost:8080/"
        },
        "id": "aysjHWo6fvtY",
        "outputId": "4ee77425-900b-40c3-f083-f9f24f58ac45"
      },
      "execution_count": 14,
      "outputs": [
        {
          "output_type": "stream",
          "name": "stdout",
          "text": [
            "One-vs-One Logistic Regression Accuracy: 91.11%\n"
          ]
        }
      ]
    },
    {
      "cell_type": "markdown",
      "source": [
        "Q11.  Write a Python program to train a Logistic Regression model and visualize the confusion matrix for binary\n",
        "classification.\n",
        "\n",
        "Ans:\n"
      ],
      "metadata": {
        "id": "O05cWIugf1dR"
      }
    },
    {
      "cell_type": "code",
      "source": [
        "import pandas as pd\n",
        "import numpy as np\n",
        "from sklearn.datasets import make_classification\n",
        "from sklearn.linear_model import LogisticRegression\n",
        "from sklearn.model_selection import train_test_split\n",
        "from sklearn.preprocessing import StandardScaler\n",
        "from sklearn.metrics import confusion_matrix, accuracy_score\n",
        "import seaborn as sns\n",
        "import matplotlib.pyplot as plt\n",
        "\n",
        "# Step 1: Generate synthetic binary classification data\n",
        "X, y = make_classification(\n",
        "    n_samples=1000, n_features=4, n_informative=2, n_redundant=0,\n",
        "    n_clusters_per_class=1, random_state=42\n",
        ")\n",
        "\n",
        "# Step 2: Train-test split\n",
        "X_train, X_test, y_train, y_test = train_test_split(\n",
        "    X, y, test_size=0.3, stratify=y, random_state=42\n",
        ")\n",
        "\n",
        "# Step 3: Feature scaling\n",
        "scaler = StandardScaler()\n",
        "X_train_scaled = scaler.fit_transform(X_train)\n",
        "X_test_scaled = scaler.transform(X_test)\n",
        "\n",
        "# Step 4: Train Logistic Regression model\n",
        "model = LogisticRegression(solver='liblinear')\n",
        "model.fit(X_train_scaled, y_train)\n",
        "\n",
        "# Step 5: Predict and compute confusion matrix\n",
        "y_pred = model.predict(X_test_scaled)\n",
        "conf_matrix = confusion_matrix(y_test, y_pred)\n",
        "accuracy = accuracy_score(y_test, y_pred)\n",
        "\n",
        "# Step 6: Visualize confusion matrix\n",
        "plt.figure(figsize=(6, 5))\n",
        "sns.heatmap(conf_matrix, annot=True, fmt='d', cmap='Blues', cbar=False,\n",
        "            xticklabels=['Predicted 0', 'Predicted 1'],\n",
        "            yticklabels=['Actual 0', 'Actual 1'])\n",
        "plt.title(f'Confusion Matrix (Accuracy: {accuracy:.2%})')\n",
        "plt.xlabel('Predicted')\n",
        "plt.ylabel('Actual')\n",
        "plt.tight_layout()\n",
        "plt.show()\n"
      ],
      "metadata": {
        "colab": {
          "base_uri": "https://localhost:8080/",
          "height": 507
        },
        "id": "49pfYtu_hTPw",
        "outputId": "b656e932-bcc2-48fc-b153-1f2357b869a1"
      },
      "execution_count": 15,
      "outputs": [
        {
          "output_type": "display_data",
          "data": {
            "text/plain": [
              "<Figure size 600x500 with 1 Axes>"
            ],
            "image/png": "[encoded data removed]"
          },
          "metadata": {}
        }
      ]
    },
    {
      "cell_type": "markdown",
      "source": [
        "Q12. Write a Python program to train a Logistic Regression model and evaluate its performance using Precision,\n",
        "Recall, and F1-Score.\n",
        "\n",
        "Ans:"
      ],
      "metadata": {
        "id": "FCKDkfVchV1l"
      }
    },
    {
      "cell_type": "code",
      "source": [
        "import numpy as np\n",
        "import pandas as pd\n",
        "from sklearn.datasets import make_classification\n",
        "from sklearn.model_selection import train_test_split\n",
        "from sklearn.linear_model import LogisticRegression\n",
        "from sklearn.preprocessing import StandardScaler\n",
        "from sklearn.metrics import classification_report, accuracy_score\n",
        "\n",
        "# Step 1: Generate synthetic binary dataset\n",
        "X, y = make_classification(\n",
        "    n_samples=1000,\n",
        "    n_features=6,\n",
        "    n_informative=4,\n",
        "    n_redundant=0,\n",
        "    n_clusters_per_class=1,\n",
        "    random_state=42\n",
        ")\n",
        "\n",
        "# Step 2: Split into train and test sets\n",
        "X_train, X_test, y_train, y_test = train_test_split(\n",
        "    X, y, test_size=0.3, stratify=y, random_state=42\n",
        ")\n",
        "\n",
        "# Step 3: Scale features\n",
        "scaler = StandardScaler()\n",
        "X_train_scaled = scaler.fit_transform(X_train)\n",
        "X_test_scaled = scaler.transform(X_test)\n",
        "\n",
        "# Step 4: Train logistic regression model\n",
        "model = LogisticRegression(solver='liblinear')\n",
        "model.fit(X_train_scaled, y_train)\n",
        "\n",
        "# Step 5: Predict and evaluate\n",
        "y_pred = model.predict(X_test_scaled)\n",
        "\n",
        "# Print Accuracy\n",
        "print(f\"Accuracy: {accuracy_score(y_test, y_pred):.2%}\")\n",
        "\n",
        "# Print Precision, Recall, and F1-Score\n",
        "print(\"\\nClassification Report:\")\n",
        "print(classification_report(y_test, y_pred, digits=4))\n"
      ],
      "metadata": {
        "colab": {
          "base_uri": "https://localhost:8080/"
        },
        "id": "ZyH5OLglhqHx",
        "outputId": "17e19229-e833-4e51-d6a6-6302ce186728"
      },
      "execution_count": 16,
      "outputs": [
        {
          "output_type": "stream",
          "name": "stdout",
          "text": [
            "Accuracy: 90.33%\n",
            "\n",
            "Classification Report:\n",
            "              precision    recall  f1-score   support\n",
            "\n",
            "           0     0.9067    0.9007    0.9037       151\n",
            "           1     0.9000    0.9060    0.9030       149\n",
            "\n",
            "    accuracy                         0.9033       300\n",
            "   macro avg     0.9033    0.9034    0.9033       300\n",
            "weighted avg     0.9034    0.9033    0.9033       300\n",
            "\n"
          ]
        }
      ]
    },
    {
      "cell_type": "markdown",
      "source": [
        "Q13. Write a Python program to train a Logistic Regression model on imbalanced data and apply class weights to\n",
        "improve model performance.\n",
        "\n",
        "Ans:"
      ],
      "metadata": {
        "id": "dYNRkM5yhtNV"
      }
    },
    {
      "cell_type": "code",
      "source": [
        "from sklearn.datasets import make_classification\n",
        "from sklearn.linear_model import LogisticRegression\n",
        "from sklearn.model_selection import train_test_split\n",
        "from sklearn.preprocessing import StandardScaler\n",
        "from sklearn.metrics import classification_report, confusion_matrix\n",
        "import matplotlib.pyplot as plt\n",
        "import seaborn as sns\n",
        "\n",
        "# Step 1: Generate imbalanced dataset\n",
        "X, y = make_classification(\n",
        "    n_samples=1000,\n",
        "    n_features=6,\n",
        "    n_informative=4,\n",
        "    n_redundant=0,\n",
        "    weights=[0.90, 0.10],  # 90% of class 0, 10% of class 1\n",
        "    random_state=42\n",
        ")\n",
        "\n",
        "# Step 2: Split data\n",
        "X_train, X_test, y_train, y_test = train_test_split(\n",
        "    X, y, stratify=y, test_size=0.3, random_state=42\n",
        ")\n",
        "\n",
        "# Step 3: Feature scaling\n",
        "scaler = StandardScaler()\n",
        "X_train_scaled = scaler.fit_transform(X_train)\n",
        "X_test_scaled = scaler.transform(X_test)\n",
        "\n",
        "# Step 4: Train Logistic Regression with class_weight='balanced'\n",
        "model = LogisticRegression(class_weight='balanced', solver='liblinear')\n",
        "model.fit(X_train_scaled, y_train)\n",
        "\n",
        "# Step 5: Predict and evaluate\n",
        "y_pred = model.predict(X_test_scaled)\n",
        "\n",
        "print(\"Classification Report (with class weights):\")\n",
        "print(classification_report(y_test, y_pred, digits=4))\n",
        "\n",
        "# Step 6: Visualize confusion matrix\n",
        "cm = confusion_matrix(y_test, y_pred)\n",
        "plt.figure(figsize=(6, 5))\n",
        "sns.heatmap(cm, annot=True, fmt='d', cmap='Purples',\n",
        "            xticklabels=['Pred 0', 'Pred 1'],\n",
        "            yticklabels=['Actual 0', 'Actual 1'])\n",
        "plt.title(\"Confusion Matrix (Weighted Logistic Regression)\")\n",
        "plt.xlabel(\"Predicted\")\n",
        "plt.ylabel(\"Actual\")\n",
        "plt.tight_layout()\n",
        "plt.show()\n"
      ],
      "metadata": {
        "colab": {
          "base_uri": "https://localhost:8080/",
          "height": 681
        },
        "id": "V27RHoIqiChQ",
        "outputId": "2980230b-53b9-4bf6-b7a5-d65050105cdc"
      },
      "execution_count": 17,
      "outputs": [
        {
          "output_type": "stream",
          "name": "stdout",
          "text": [
            "Classification Report (with class weights):\n",
            "              precision    recall  f1-score   support\n",
            "\n",
            "           0     0.9372    0.7212    0.8151       269\n",
            "           1     0.1935    0.5806    0.2903        31\n",
            "\n",
            "    accuracy                         0.7067       300\n",
            "   macro avg     0.5654    0.6509    0.5527       300\n",
            "weighted avg     0.8604    0.7067    0.7609       300\n",
            "\n"
          ]
        },
        {
          "output_type": "display_data",
          "data": {
            "text/plain": [
              "<Figure size 600x500 with 2 Axes>"
            ],
            "image/png": "[encoded data removed]"
          },
          "metadata": {}
        }
      ]
    },
    {
      "cell_type": "markdown",
      "source": [
        "Q14.  Write a Python program to train Logistic Regression on the Titanic dataset, handle missing values, and\n",
        "evaluate performance.\n",
        "\n",
        "Ans:"
      ],
      "metadata": {
        "id": "_6_7MP_RiGiX"
      }
    },
    {
      "cell_type": "code",
      "source": [
        "import pandas as pd\n",
        "from sklearn.model_selection import train_test_split\n",
        "from sklearn.linear_model import LogisticRegression\n",
        "from sklearn.metrics import classification_report, accuracy_score\n",
        "from sklearn.preprocessing import LabelEncoder, StandardScaler\n",
        "\n",
        "# Step 1: Load Titanic dataset from CSV\n",
        "df = pd.read_csv('titanic.csv')  # 🔁 Replace with your actual CSV file\n",
        "\n",
        "# Step 2: Handle missing values\n",
        "df['Age'].fillna(df['Age'].median(), inplace=True)\n",
        "df['Embarked'].fillna(df['Embarked'].mode()[0], inplace=True)\n",
        "\n",
        "# Step 3: Drop unused columns\n",
        "df = df.drop(columns=['Name', 'Ticket', 'Cabin', 'PassengerId'])\n",
        "\n",
        "# Step 4: Encode categorical variables\n",
        "le_sex = LabelEncoder()\n",
        "df['Sex'] = le_sex.fit_transform(df['Sex'])  # male=1, female=0\n",
        "\n",
        "le_embarked = LabelEncoder()\n",
        "df['Embarked'] = le_embarked.fit_transform(df['Embarked'])\n",
        "\n",
        "# Step 5: Split into features and target\n",
        "X = df.drop('Survived', axis=1)\n",
        "y = df['Survived']\n",
        "\n",
        "# Step 6: Train-test split\n",
        "X_train, X_test, y_train, y_test = train_test_split(\n",
        "    X, y, test_size=0.3, stratify=y, random_state=42\n",
        ")\n",
        "\n",
        "# Step 7: Scale features\n",
        "scaler = StandardScaler()\n",
        "X_train_scaled = scaler.fit_transform(X_train)\n",
        "X_test_scaled = scaler.transform(X_test)\n",
        "\n",
        "# Step 8: Train Logistic Regression model\n",
        "model = LogisticRegression(max_iter=1000)\n",
        "model.fit(X_train_scaled, y_train)\n",
        "\n",
        "# Step 9: Evaluate performance\n",
        "y_pred = model.predict(X_test_scaled)\n",
        "\n",
        "print(f\"Accuracy: {accuracy_score(y_test, y_pred):.2%}\\n\")\n",
        "print(\"Classification Report:\")\n",
        "print(classification_report(y_test, y_pred, digits=4))\n"
      ],
      "metadata": {
        "id": "rAhXDXr8ifc3"
      },
      "execution_count": null,
      "outputs": []
    },
    {
      "cell_type": "markdown",
      "source": [
        "Q15.  Write a Python program to apply feature scaling (Standardization) before training a Logistic Regression\n",
        "model. Evaluate its accuracy and compare results with and without scaling.\n",
        "\n",
        "Ans:"
      ],
      "metadata": {
        "id": "BGzK3mp1ihkY"
      }
    },
    {
      "cell_type": "code",
      "source": [
        "import numpy as np\n",
        "from sklearn.datasets import make_classification\n",
        "from sklearn.linear_model import LogisticRegression\n",
        "from sklearn.model_selection import train_test_split\n",
        "from sklearn.metrics import accuracy_score\n",
        "from sklearn.preprocessing import StandardScaler\n",
        "\n",
        "# Step 1: Generate synthetic binary classification data\n",
        "X, y = make_classification(\n",
        "    n_samples=1000, n_features=6, n_informative=4, n_redundant=2,\n",
        "    class_sep=1.0, random_state=42\n",
        ")\n",
        "\n",
        "# Step 2: Train-test split\n",
        "X_train, X_test, y_train, y_test = train_test_split(\n",
        "    X, y, stratify=y, test_size=0.3, random_state=42\n",
        ")\n",
        "\n",
        "# Step 3: Train model WITHOUT scaling\n",
        "model_unscaled = LogisticRegression(solver='liblinear')\n",
        "model_unscaled.fit(X_train, y_train)\n",
        "y_pred_unscaled = model_unscaled.predict(X_test)\n",
        "acc_unscaled = accuracy_score(y_test, y_pred_unscaled)\n",
        "\n",
        "# Step 4: Apply Standardization\n",
        "scaler = StandardScaler()\n",
        "X_train_scaled = scaler.fit_transform(X_train)\n",
        "X_test_scaled = scaler.transform(X_test)\n",
        "\n",
        "# Step 5: Train model WITH scaling\n",
        "model_scaled = LogisticRegression(solver='liblinear')\n",
        "model_scaled.fit(X_train_scaled, y_train)\n",
        "y_pred_scaled = model_scaled.predict(X_test_scaled)\n",
        "acc_scaled = accuracy_score(y_test, y_pred_scaled)\n",
        "\n",
        "# Step 6: Compare results\n",
        "print(f\"Accuracy WITHOUT Scaling: {acc_unscaled:.2%}\")\n",
        "print(f\"Accuracy WITH Scaling   : {acc_scaled:.2%}\")\n"
      ],
      "metadata": {
        "colab": {
          "base_uri": "https://localhost:8080/"
        },
        "id": "OUtPTPXmi-ED",
        "outputId": "d5262889-ab5b-4a75-8b23-e9564968fab7"
      },
      "execution_count": 19,
      "outputs": [
        {
          "output_type": "stream",
          "name": "stdout",
          "text": [
            "Accuracy WITHOUT Scaling: 68.33%\n",
            "Accuracy WITH Scaling   : 68.33%\n"
          ]
        }
      ]
    },
    {
      "cell_type": "markdown",
      "source": [
        "Q16. Write a Python program to train Logistic Regression and evaluate its performance using ROC-AUC score.\n",
        "\n",
        "Ans:\n",
        ""
      ],
      "metadata": {
        "id": "7RpgczDyjGX8"
      }
    },
    {
      "cell_type": "code",
      "source": [
        "import numpy as np\n",
        "from sklearn.datasets import make_classification\n",
        "from sklearn.linear_model import LogisticRegression\n",
        "from sklearn.model_selection import train_test_split\n",
        "from sklearn.preprocessing import StandardScaler\n",
        "from sklearn.metrics import roc_auc_score, roc_curve\n",
        "import matplotlib.pyplot as plt\n",
        "\n",
        "# Step 1: Create synthetic binary dataset\n",
        "X, y = make_classification(\n",
        "    n_samples=1000,\n",
        "    n_features=6,\n",
        "    n_informative=4,\n",
        "    n_redundant=0,\n",
        "    random_state=42\n",
        ")\n",
        "\n",
        "# Step 2: Train-test split\n",
        "X_train, X_test, y_train, y_test = train_test_split(\n",
        "    X, y, test_size=0.3, stratify=y, random_state=42\n",
        ")\n",
        "\n",
        "# Step 3: Feature scaling\n",
        "scaler = StandardScaler()\n",
        "X_train_scaled = scaler.fit_transform(X_train)\n",
        "X_test_scaled = scaler.transform(X_test)\n",
        "\n",
        "# Step 4: Train logistic regression model\n",
        "model = LogisticRegression(solver='liblinear')\n",
        "model.fit(X_train_scaled, y_train)\n",
        "\n",
        "# Step 5: Predict probabilities for positive class\n",
        "y_probs = model.predict_proba(X_test_scaled)[:, 1]\n",
        "\n",
        "# Step 6: Evaluate using ROC-AUC\n",
        "roc_auc = roc_auc_score(y_test, y_probs)\n",
        "print(f\"ROC-AUC Score: {roc_auc:.4f}\")\n",
        "\n",
        "# Step 7: Optional – Plot ROC Curve\n",
        "fpr, tpr, thresholds = roc_curve(y_test, y_probs)\n",
        "plt.figure(figsize=(6, 5))\n",
        "plt.plot(fpr, tpr, color='darkorange', lw=2, label=f'ROC curve (AUC = {roc_auc:.2f})')\n",
        "plt.plot([0, 1], [0, 1], color='navy', linestyle='--')\n",
        "plt.xlabel('False Positive Rate')\n",
        "plt.ylabel('True Positive Rate')\n",
        "plt.title('ROC Curve - Logistic Regression')\n",
        "plt.legend(loc='lower right')\n",
        "plt.tight_layout()\n",
        "plt.show()\n"
      ],
      "metadata": {
        "colab": {
          "base_uri": "https://localhost:8080/",
          "height": 524
        },
        "id": "z-Ht4pImLLPm",
        "outputId": "9c026bc2-e354-4cac-894d-805f708a0ecf"
      },
      "execution_count": 1,
      "outputs": [
        {
          "output_type": "stream",
          "name": "stdout",
          "text": [
            "ROC-AUC Score: 0.7598\n"
          ]
        },
        {
          "output_type": "display_data",
          "data": {
            "text/plain": [
              "<Figure size 600x500 with 1 Axes>"
            ],
            "image/png": "[encoded data removed]"
          },
          "metadata": {}
        }
      ]
    },
    {
      "cell_type": "markdown",
      "source": [
        "Q17. Write a Python program to train Logistic Regression using a custom learning rate (C=0.5) and evaluate\n",
        "accuracy.\n",
        "\n",
        "Ans:"
      ],
      "metadata": {
        "id": "MwqVshc7LZJD"
      }
    },
    {
      "cell_type": "code",
      "source": [
        "from sklearn.datasets import make_classification\n",
        "from sklearn.model_selection import train_test_split\n",
        "from sklearn.preprocessing import StandardScaler\n",
        "from sklearn.linear_model import LogisticRegression\n",
        "from sklearn.metrics import accuracy_score\n",
        "\n",
        "# Step 1: Generate a binary classification dataset\n",
        "X, y = make_classification(\n",
        "    n_samples=1000, n_features=6, n_informative=4,\n",
        "    n_redundant=0, random_state=42\n",
        ")\n",
        "\n",
        "# Step 2: Train-test split\n",
        "X_train, X_test, y_train, y_test = train_test_split(\n",
        "    X, y, test_size=0.3, stratify=y, random_state=42\n",
        ")\n",
        "\n",
        "# Step 3: Feature scaling\n",
        "scaler = StandardScaler()\n",
        "X_train_scaled = scaler.fit_transform(X_train)\n",
        "X_test_scaled = scaler.transform(X_test)\n",
        "\n",
        "# Step 4: Logistic Regression with C = 0.5\n",
        "model = LogisticRegression(C=0.5, solver='liblinear')  # liblinear works well for binary tasks\n",
        "model.fit(X_train_scaled, y_train)\n",
        "\n",
        "# Step 5: Predict and evaluate\n",
        "y_pred = model.predict(X_test_scaled)\n",
        "accuracy = accuracy_score(y_test, y_pred)\n",
        "\n",
        "print(f\"Logistic Regression Accuracy with C=0.5: {accuracy:.2%}\")\n"
      ],
      "metadata": {
        "colab": {
          "base_uri": "https://localhost:8080/"
        },
        "id": "aE4xoEOvLjNK",
        "outputId": "a81dc7d7-1ec0-4200-814d-409c2f10cf40"
      },
      "execution_count": 2,
      "outputs": [
        {
          "output_type": "stream",
          "name": "stdout",
          "text": [
            "Logistic Regression Accuracy with C=0.5: 68.67%\n"
          ]
        }
      ]
    },
    {
      "cell_type": "markdown",
      "source": [
        "Q18.  Write a Python program to train Logistic Regression and identify important features based on model\n",
        "coefficients.\n",
        "\n",
        "Ans:"
      ],
      "metadata": {
        "id": "ud3S1nipLsXi"
      }
    },
    {
      "cell_type": "code",
      "source": [
        "import pandas as pd\n",
        "import numpy as np\n",
        "from sklearn.datasets import load_breast_cancer\n",
        "from sklearn.linear_model import LogisticRegression\n",
        "from sklearn.model_selection import train_test_split\n",
        "from sklearn.preprocessing import StandardScaler\n",
        "from sklearn.metrics import accuracy_score\n",
        "\n",
        "# Step 1: Load dataset (binary classification)\n",
        "data = load_breast_cancer()\n",
        "X = pd.DataFrame(data.data, columns=data.feature_names)\n",
        "y = data.target\n",
        "\n",
        "# Step 2: Train-test split\n",
        "X_train, X_test, y_train, y_test = train_test_split(\n",
        "    X, y, stratify=y, test_size=0.3, random_state=42\n",
        ")\n",
        "\n",
        "# Step 3: Standardize features\n",
        "scaler = StandardScaler()\n",
        "X_train_scaled = scaler.fit_transform(X_train)\n",
        "X_test_scaled = scaler.transform(X_test)\n",
        "\n",
        "# Step 4: Train Logistic Regression\n",
        "model = LogisticRegression(solver='liblinear')\n",
        "model.fit(X_train_scaled, y_train)\n",
        "\n",
        "# Step 5: Evaluate model\n",
        "y_pred = model.predict(X_test_scaled)\n",
        "accuracy = accuracy_score(y_test, y_pred)\n",
        "print(f\"Model Accuracy: {accuracy:.2%}\\n\")\n",
        "\n",
        "# Step 6: Identify important features\n",
        "coefficients = model.coef_[0]\n",
        "feature_importance = pd.DataFrame({\n",
        "    'Feature': X.columns,\n",
        "    'Coefficient': coefficients,\n",
        "    'Abs_Coefficient': np.abs(coefficients)\n",
        "}).sort_values(by='Abs_Coefficient', ascending=False)\n",
        "\n",
        "print(\"Top 10 Important Features:\")\n",
        "print(feature_importance[['Feature', 'Coefficient']].head(10))\n"
      ],
      "metadata": {
        "colab": {
          "base_uri": "https://localhost:8080/"
        },
        "id": "txkHMGKRMKxh",
        "outputId": "96685a8e-b0e0-4dd8-a76e-4933d10c0aaf"
      },
      "execution_count": 3,
      "outputs": [
        {
          "output_type": "stream",
          "name": "stdout",
          "text": [
            "Model Accuracy: 98.83%\n",
            "\n",
            "Top 10 Important Features:\n",
            "                 Feature  Coefficient\n",
            "21         worst texture    -1.212907\n",
            "27  worst concave points    -0.990615\n",
            "23            worst area    -0.975691\n",
            "13            area error    -0.954816\n",
            "20          worst radius    -0.938634\n",
            "10          radius error    -0.888358\n",
            "28        worst symmetry    -0.861168\n",
            "26       worst concavity    -0.791333\n",
            "24      worst smoothness    -0.758565\n",
            "22       worst perimeter    -0.732064\n"
          ]
        }
      ]
    },
    {
      "cell_type": "markdown",
      "source": [
        "Q19.  Write a Python program to train Logistic Regression and evaluate its performance using Cohen’s Kappa\n",
        "Score.\n",
        "\n",
        "Ans:"
      ],
      "metadata": {
        "id": "wUPPzwbXMcj1"
      }
    },
    {
      "cell_type": "code",
      "source": [
        "from sklearn.datasets import make_classification\n",
        "from sklearn.linear_model import LogisticRegression\n",
        "from sklearn.model_selection import train_test_split\n",
        "from sklearn.preprocessing import StandardScaler\n",
        "from sklearn.metrics import cohen_kappa_score, classification_report\n",
        "\n",
        "# Step 1: Generate synthetic binary classification data\n",
        "X, y = make_classification(\n",
        "    n_samples=1000, n_features=6, n_informative=4,\n",
        "    n_redundant=0, random_state=42\n",
        ")\n",
        "\n",
        "# Step 2: Train-test split\n",
        "X_train, X_test, y_train, y_test = train_test_split(\n",
        "    X, y, stratify=y, test_size=0.3, random_state=42\n",
        ")\n",
        "\n",
        "# Step 3: Feature scaling\n",
        "scaler = StandardScaler()\n",
        "X_train_scaled = scaler.fit_transform(X_train)\n",
        "X_test_scaled = scaler.transform(X_test)\n",
        "\n",
        "# Step 4: Train logistic regression model\n",
        "model = LogisticRegression(solver='liblinear')\n",
        "model.fit(X_train_scaled, y_train)\n",
        "\n",
        "# Step 5: Predict and evaluate\n",
        "y_pred = model.predict(X_test_scaled)\n",
        "\n",
        "# Step 6: Compute Cohen’s Kappa Score\n",
        "kappa_score = cohen_kappa_score(y_test, y_pred)\n",
        "print(f\"Cohen’s Kappa Score: {kappa_score:.4f}\")\n",
        "\n",
        "# Optional: classification report for additional context\n",
        "print(\"\\nClassification Report:\")\n",
        "print(classification_report(y_test, y_pred, digits=4))\n"
      ],
      "metadata": {
        "colab": {
          "base_uri": "https://localhost:8080/"
        },
        "id": "zeEZANfaO94G",
        "outputId": "c1067cf7-0ab5-4974-86cf-5d8bee73f51b"
      },
      "execution_count": 5,
      "outputs": [
        {
          "output_type": "stream",
          "name": "stdout",
          "text": [
            "Cohen’s Kappa Score: 0.3739\n",
            "\n",
            "Classification Report:\n",
            "              precision    recall  f1-score   support\n",
            "\n",
            "           0     0.6627    0.7517    0.7044       149\n",
            "           1     0.7176    0.6225    0.6667       151\n",
            "\n",
            "    accuracy                         0.6867       300\n",
            "   macro avg     0.6901    0.6871    0.6855       300\n",
            "weighted avg     0.6903    0.6867    0.6854       300\n",
            "\n"
          ]
        }
      ]
    },
    {
      "cell_type": "markdown",
      "source": [
        "Q20. Write a Python program to train Logistic Regression and visualize the Precision-Recall Curve for binary\n",
        "classification.\n",
        "\n",
        "Ans:"
      ],
      "metadata": {
        "id": "FntXIpjOPBGn"
      }
    },
    {
      "cell_type": "code",
      "source": [
        "import numpy as np\n",
        "from sklearn.datasets import make_classification\n",
        "from sklearn.linear_model import LogisticRegression\n",
        "from sklearn.model_selection import train_test_split\n",
        "from sklearn.preprocessing import StandardScaler\n",
        "from sklearn.metrics import precision_recall_curve, classification_report, average_precision_score\n",
        "import matplotlib.pyplot as plt\n",
        "\n",
        "# Step 1: Create a synthetic binary dataset\n",
        "X, y = make_classification(\n",
        "    n_samples=1000,\n",
        "    n_features=6,\n",
        "    n_informative=4,\n",
        "    n_redundant=0,\n",
        "    random_state=42\n",
        ")\n",
        "\n",
        "# Step 2: Train-test split\n",
        "X_train, X_test, y_train, y_test = train_test_split(\n",
        "    X, y, test_size=0.3, stratify=y, random_state=42\n",
        ")\n",
        "\n",
        "# Step 3: Feature scaling\n",
        "scaler = StandardScaler()\n",
        "X_train_scaled = scaler.fit_transform(X_train)\n",
        "X_test_scaled = scaler.transform(X_test)\n",
        "\n",
        "# Step 4: Train Logistic Regression\n",
        "model = LogisticRegression(solver='liblinear')\n",
        "model.fit(X_train_scaled, y_train)\n",
        "\n",
        "# Step 5: Predict probabilities\n",
        "y_probs = model.predict_proba(X_test_scaled)[:, 1]\n",
        "\n",
        "# Step 6: Precision-Recall values\n",
        "precision, recall, thresholds = precision_recall_curve(y_test, y_probs)\n",
        "avg_precision = average_precision_score(y_test, y_probs)\n",
        "\n",
        "# Step 7: Plot Precision-Recall Curve\n",
        "plt.figure(figsize=(7, 5))\n",
        "plt.plot(recall, precision, color='darkblue', lw=2, label=f'AP = {avg_precision:.2f}')\n",
        "plt.xlabel('Recall')\n",
        "plt.ylabel('Precision')\n",
        "plt.title('Precision-Recall Curve')\n",
        "plt.legend()\n",
        "plt.grid(True)\n",
        "plt.tight_layout()\n",
        "plt.show()\n",
        "\n",
        "# Step 8: Optional classification report\n",
        "print(\"Classification Report:\")\n",
        "print(classification_report(y_test, model.predict(X_test_scaled), digits=4))\n"
      ],
      "metadata": {
        "colab": {
          "base_uri": "https://localhost:8080/",
          "height": 681
        },
        "id": "D0XdNdwWPRM9",
        "outputId": "430db8b8-376e-4eb6-d596-5996d8452fae"
      },
      "execution_count": 6,
      "outputs": [
        {
          "output_type": "display_data",
          "data": {
            "text/plain": [
              "<Figure size 700x500 with 1 Axes>"
            ],
            "image/png": "[encoded data removed]"
          },
          "metadata": {}
        },
        {
          "output_type": "stream",
          "name": "stdout",
          "text": [
            "Classification Report:\n",
            "              precision    recall  f1-score   support\n",
            "\n",
            "           0     0.6627    0.7517    0.7044       149\n",
            "           1     0.7176    0.6225    0.6667       151\n",
            "\n",
            "    accuracy                         0.6867       300\n",
            "   macro avg     0.6901    0.6871    0.6855       300\n",
            "weighted avg     0.6903    0.6867    0.6854       300\n",
            "\n"
          ]
        }
      ]
    },
    {
      "cell_type": "markdown",
      "source": [
        "Q21. Write a Python program to train Logistic Regression with different solvers (liblinear, saga, lbfgs) and compare\n",
        "their accuracy.\n",
        "\n",
        "Ans:"
      ],
      "metadata": {
        "id": "FB3N2ieKPUyy"
      }
    },
    {
      "cell_type": "code",
      "source": [
        "from sklearn.datasets import make_classification\n",
        "from sklearn.model_selection import train_test_split\n",
        "from sklearn.linear_model import LogisticRegression\n",
        "from sklearn.preprocessing import StandardScaler\n",
        "from sklearn.metrics import accuracy_score\n",
        "\n",
        "# Step 1: Generate synthetic binary classification dataset\n",
        "X, y = make_classification(\n",
        "    n_samples=1000, n_features=6, n_informative=4,\n",
        "    n_redundant=0, random_state=42\n",
        ")\n",
        "\n",
        "# Step 2: Train-test split\n",
        "X_train, X_test, y_train, y_test = train_test_split(\n",
        "    X, y, test_size=0.3, stratify=y, random_state=42\n",
        ")\n",
        "\n",
        "# Step 3: Standardize features\n",
        "scaler = StandardScaler()\n",
        "X_train_scaled = scaler.fit_transform(X_train)\n",
        "X_test_scaled = scaler.transform(X_test)\n",
        "\n",
        "# Step 4: Try different solvers\n",
        "solvers = ['liblinear', 'saga', 'lbfgs']\n",
        "results = {}\n",
        "\n",
        "for solver in solvers:\n",
        "    model = LogisticRegression(solver=solver, max_iter=1000)\n",
        "    model.fit(X_train_scaled, y_train)\n",
        "    y_pred = model.predict(X_test_scaled)\n",
        "    acc = accuracy_score(y_test, y_pred)\n",
        "    results[solver] = acc\n",
        "\n",
        "# Step 5: Print results\n",
        "print(\"📊 Logistic Regression Accuracy by Solver:\\n\")\n",
        "for solver, acc in results.items():\n",
        "    print(f\"{solver:10s} → Accuracy: {acc:.2%}\")\n"
      ],
      "metadata": {
        "colab": {
          "base_uri": "https://localhost:8080/"
        },
        "id": "nEq8Nk8APfCo",
        "outputId": "c2a86064-fbc3-409f-90b6-ef68bbb1249d"
      },
      "execution_count": 7,
      "outputs": [
        {
          "output_type": "stream",
          "name": "stdout",
          "text": [
            "📊 Logistic Regression Accuracy by Solver:\n",
            "\n",
            "liblinear  → Accuracy: 68.67%\n",
            "saga       → Accuracy: 68.67%\n",
            "lbfgs      → Accuracy: 68.67%\n"
          ]
        }
      ]
    },
    {
      "cell_type": "markdown",
      "source": [
        "Q22. Write a Python program to train Logistic Regression and evaluate its performance using Matthews\n",
        "Correlation Coefficient (MCC).\n",
        "\n",
        "Ans:"
      ],
      "metadata": {
        "id": "egg8TfBDPg99"
      }
    },
    {
      "cell_type": "code",
      "source": [
        "from sklearn.datasets import make_classification\n",
        "from sklearn.linear_model import LogisticRegression\n",
        "from sklearn.model_selection import train_test_split\n",
        "from sklearn.preprocessing import StandardScaler\n",
        "from sklearn.metrics import matthews_corrcoef, classification_report\n",
        "\n",
        "# Step 1: Create a binary classification dataset\n",
        "X, y = make_classification(\n",
        "    n_samples=1000,\n",
        "    n_features=6,\n",
        "    n_informative=4,\n",
        "    n_redundant=0,\n",
        "    random_state=42\n",
        ")\n",
        "\n",
        "# Step 2: Split the data\n",
        "X_train, X_test, y_train, y_test = train_test_split(\n",
        "    X, y, stratify=y, test_size=0.3, random_state=42\n",
        ")\n",
        "\n",
        "# Step 3: Feature scaling\n",
        "scaler = StandardScaler()\n",
        "X_train_scaled = scaler.fit_transform(X_train)\n",
        "X_test_scaled = scaler.transform(X_test)\n",
        "\n",
        "# Step 4: Train Logistic Regression\n",
        "model = LogisticRegression(solver='liblinear')\n",
        "model.fit(X_train_scaled, y_train)\n",
        "\n",
        "# Step 5: Predict and evaluate\n",
        "y_pred = model.predict(X_test_scaled)\n",
        "mcc_score = matthews_corrcoef(y_test, y_pred)\n",
        "\n",
        "# Step 6: Results\n",
        "print(f\"Matthews Correlation Coefficient (MCC): {mcc_score:.4f}\")\n",
        "print(\"\\nClassification Report:\")\n",
        "print(classification_report(y_test, y_pred, digits=4))\n"
      ],
      "metadata": {
        "colab": {
          "base_uri": "https://localhost:8080/"
        },
        "id": "IbAKeS2mPsaf",
        "outputId": "a5286629-2018-45fc-c5b0-7af3cd4b57ec"
      },
      "execution_count": 8,
      "outputs": [
        {
          "output_type": "stream",
          "name": "stdout",
          "text": [
            "Matthews Correlation Coefficient (MCC): 0.3772\n",
            "\n",
            "Classification Report:\n",
            "              precision    recall  f1-score   support\n",
            "\n",
            "           0     0.6627    0.7517    0.7044       149\n",
            "           1     0.7176    0.6225    0.6667       151\n",
            "\n",
            "    accuracy                         0.6867       300\n",
            "   macro avg     0.6901    0.6871    0.6855       300\n",
            "weighted avg     0.6903    0.6867    0.6854       300\n",
            "\n"
          ]
        }
      ]
    },
    {
      "cell_type": "markdown",
      "source": [
        "Q23. Write a Python program to train Logistic Regression on both raw and standardized data. Compare their\n",
        "accuracy to see the impact of feature scaling.\n",
        "\n",
        "Ans:"
      ],
      "metadata": {
        "id": "Zb-7z-25PvRU"
      }
    },
    {
      "cell_type": "code",
      "source": [
        "from sklearn.datasets import make_classification\n",
        "from sklearn.linear_model import LogisticRegression\n",
        "from sklearn.model_selection import train_test_split\n",
        "from sklearn.metrics import accuracy_score\n",
        "from sklearn.preprocessing import StandardScaler\n",
        "\n",
        "# Step 1: Create binary classification dataset\n",
        "X, y = make_classification(\n",
        "    n_samples=1000, n_features=6, n_informative=4,\n",
        "    n_redundant=0, random_state=42\n",
        ")\n",
        "\n",
        "# Step 2: Train-test split\n",
        "X_train, X_test, y_train, y_test = train_test_split(\n",
        "    X, y, stratify=y, test_size=0.3, random_state=42\n",
        ")\n",
        "\n",
        "# Step 3a: Logistic Regression WITHOUT scaling\n",
        "model_raw = LogisticRegression(solver='liblinear')\n",
        "model_raw.fit(X_train, y_train)\n",
        "y_pred_raw = model_raw.predict(X_test)\n",
        "accuracy_raw = accuracy_score(y_test, y_pred_raw)\n",
        "\n",
        "# Step 3b: Apply Standard Scaling\n",
        "scaler = StandardScaler()\n",
        "X_train_scaled = scaler.fit_transform(X_train)\n",
        "X_test_scaled = scaler.transform(X_test)\n",
        "\n",
        "# Step 4: Logistic Regression WITH scaling\n",
        "model_scaled = LogisticRegression(solver='liblinear')\n",
        "model_scaled.fit(X_train_scaled, y_train)\n",
        "y_pred_scaled = model_scaled.predict(X_test_scaled)\n",
        "accuracy_scaled = accuracy_score(y_test, y_pred_scaled)\n",
        "\n",
        "# Step 5: Output results\n",
        "print(\"Accuracy WITHOUT Scaling :\", f\"{accuracy_raw:.2%}\")\n",
        "print(\"Accuracy WITH Scaling    :\", f\"{accuracy_scaled:.2%}\")\n"
      ],
      "metadata": {
        "colab": {
          "base_uri": "https://localhost:8080/"
        },
        "id": "m08IFlbbP3x7",
        "outputId": "1119e034-1f72-4943-af63-eee229467474"
      },
      "execution_count": 9,
      "outputs": [
        {
          "output_type": "stream",
          "name": "stdout",
          "text": [
            "Accuracy WITHOUT Scaling : 68.67%\n",
            "Accuracy WITH Scaling    : 68.67%\n"
          ]
        }
      ]
    },
    {
      "cell_type": "markdown",
      "source": [
        "Q24. Write a Python program to train Logistic Regression and find the optimal C (regularization strength) using\n",
        "cross-validation.\n",
        "\n",
        "Ans:"
      ],
      "metadata": {
        "id": "Zrg0M4tsP9j-"
      }
    },
    {
      "cell_type": "code",
      "source": [
        "from sklearn.datasets import make_classification\n",
        "from sklearn.linear_model import LogisticRegression\n",
        "from sklearn.model_selection import GridSearchCV, train_test_split\n",
        "from sklearn.preprocessing import StandardScaler\n",
        "from sklearn.metrics import accuracy_score\n",
        "\n",
        "# Step 1: Create a binary classification dataset\n",
        "X, y = make_classification(\n",
        "    n_samples=1000, n_features=6, n_informative=4,\n",
        "    n_redundant=0, random_state=42\n",
        ")\n",
        "\n",
        "# Step 2: Split the dataset\n",
        "X_train, X_test, y_train, y_test = train_test_split(\n",
        "    X, y, stratify=y, test_size=0.3, random_state=42\n",
        ")\n",
        "\n",
        "# Step 3: Standardize features\n",
        "scaler = StandardScaler()\n",
        "X_train_scaled = scaler.fit_transform(X_train)\n",
        "X_test_scaled = scaler.transform(X_test)\n",
        "\n",
        "# Step 4: Define the Logistic Regression model\n",
        "model = LogisticRegression(penalty='l2', solver='liblinear', max_iter=1000)\n",
        "\n",
        "# Step 5: Grid search for best C value\n",
        "param_grid = {'C': [0.01, 0.1, 0.5, 1.0, 5.0, 10.0, 100.0]}\n",
        "grid = GridSearchCV(model, param_grid, cv=5, scoring='accuracy')\n",
        "grid.fit(X_train_scaled, y_train)\n",
        "\n",
        "# Step 6: Evaluate the best model\n",
        "best_model = grid.best_estimator_\n",
        "y_pred = best_model.predict(X_test_scaled)\n",
        "accuracy = accuracy_score(y_test, y_pred)\n",
        "\n",
        "# Step 7: Print results\n",
        "print(\"Best Regularization Parameter C:\", grid.best_params_['C'])\n",
        "print(f\"Cross-Validated Test Accuracy  : {accuracy:.2%}\")\n"
      ],
      "metadata": {
        "colab": {
          "base_uri": "https://localhost:8080/"
        },
        "id": "XBVnwnMqQS6P",
        "outputId": "061deca1-4fa8-424c-be9b-480bc959e272"
      },
      "execution_count": 10,
      "outputs": [
        {
          "output_type": "stream",
          "name": "stdout",
          "text": [
            "Best Regularization Parameter C: 100.0\n",
            "Cross-Validated Test Accuracy  : 68.67%\n"
          ]
        }
      ]
    },
    {
      "cell_type": "markdown",
      "source": [
        "Q25. Write a Python program to train Logistic Regression, save the trained model using joblib, and load it again to\n",
        "make predictions.\n",
        "\n",
        "Ans:"
      ],
      "metadata": {
        "id": "tcBJzQWJQXcQ"
      }
    },
    {
      "cell_type": "code",
      "source": [
        "import numpy as np\n",
        "from sklearn.datasets import make_classification\n",
        "from sklearn.linear_model import LogisticRegression\n",
        "from sklearn.model_selection import train_test_split\n",
        "from sklearn.preprocessing import StandardScaler\n",
        "from sklearn.metrics import accuracy_score\n",
        "import joblib  # <-- For saving/loading the model\n",
        "\n",
        "# Step 1: Generate binary classification data\n",
        "X, y = make_classification(\n",
        "    n_samples=1000, n_features=6, n_informative=4,\n",
        "    n_redundant=0, random_state=42\n",
        ")\n",
        "\n",
        "# Step 2: Split dataset\n",
        "X_train, X_test, y_train, y_test = train_test_split(\n",
        "    X, y, stratify=y, test_size=0.3, random_state=42\n",
        ")\n",
        "\n",
        "# Step 3: Standardize features\n",
        "scaler = StandardScaler()\n",
        "X_train_scaled = scaler.fit_transform(X_train)\n",
        "X_test_scaled = scaler.transform(X_test)\n",
        "\n",
        "# Step 4: Train Logistic Regression model\n",
        "model = LogisticRegression(solver='liblinear')\n",
        "model.fit(X_train_scaled, y_train)\n",
        "\n",
        "# Step 5: Save model and scaler\n",
        "joblib.dump(model, 'logistic_model.joblib')\n",
        "joblib.dump(scaler, 'scaler.joblib')\n",
        "\n",
        "print(\"✅ Model and scaler saved successfully.\")\n",
        "\n",
        "# Step 6: Load model and scaler\n",
        "loaded_model = joblib.load('logistic_model.joblib')\n",
        "loaded_scaler = joblib.load('scaler.joblib')\n",
        "\n",
        "# Step 7: Make predictions using loaded model\n",
        "X_new_scaled = loaded_scaler.transform(X_test)  # reuse saved scaler\n",
        "y_pred = loaded_model.predict(X_new_scaled)\n",
        "accuracy = accuracy_score(y_test, y_pred)\n",
        "\n",
        "print(f\"🔄 Loaded Model Accuracy: {accuracy:.2%}\")\n"
      ],
      "metadata": {
        "colab": {
          "base_uri": "https://localhost:8080/"
        },
        "id": "kQnAQQWzQehd",
        "outputId": "ddde91f0-313e-4768-dd07-a23bf6fe3e9f"
      },
      "execution_count": 11,
      "outputs": [
        {
          "output_type": "stream",
          "name": "stdout",
          "text": [
            "✅ Model and scaler saved successfully.\n",
            "🔄 Loaded Model Accuracy: 68.67%\n"
          ]
        }
      ]
    }
  ]
}